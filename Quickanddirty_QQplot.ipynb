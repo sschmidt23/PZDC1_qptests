{
 "cells": [
  {
   "cell_type": "code",
   "execution_count": 45,
   "metadata": {
    "collapsed": true
   },
   "outputs": [],
   "source": [
    "import argparse\n",
    "import qp\n",
    "import numpy as np\n",
    "import matplotlib.pyplot as plt\n",
    "import scipy.interpolate as sciint\n",
    "%matplotlib inline"
   ]
  },
  {
   "cell_type": "code",
   "execution_count": 46,
   "metadata": {
    "collapsed": true
   },
   "outputs": [],
   "source": [
    "infile = \"/Users/samschmidt/PZPAPER/mystuff/test_magscat_trainingfile_probs.out\"\n",
    "szfile = \"/Users/samschmidt/PZPAPER/mystuff/train_justsz.out\"\n",
    "#infile = \"/Users/samschmidt/PZPAPER/mystuff/test_magscat_trainingfile_probs_top2000.out\"\n",
    "#szfile = \"/Users/samschmidt/PZPAPER/mystuff/train_justsz_top2000.out\"\n",
    "z_array = np.arange(0.0050,2.1100,0.0100) #this is the grid output by BPZ for my runs\n",
    "z_trues = np.loadtxt(szfile,skiprows=1)\n",
    "alldata = np.loadtxt(infile,skiprows=1)\n",
    "ID = alldata[:,0]\n",
    "pzs = alldata[:,1:]"
   ]
  },
  {
   "cell_type": "code",
   "execution_count": 47,
   "metadata": {
    "collapsed": true
   },
   "outputs": [],
   "source": [
    "onepz = alldata[2,:]"
   ]
  },
  {
   "cell_type": "code",
   "execution_count": 48,
   "metadata": {
    "collapsed": false
   },
   "outputs": [
    {
     "name": "stdout",
     "output_type": "stream",
     "text": [
      "212\n",
      "0.064\n"
     ]
    }
   ],
   "source": [
    "print len(onepz)\n",
    "tmpsz = z_trues[2]\n",
    "print tmpsz"
   ]
  },
  {
   "cell_type": "code",
   "execution_count": 49,
   "metadata": {
    "collapsed": true
   },
   "outputs": [],
   "source": [
    "allPIT = []"
   ]
  },
  {
   "cell_type": "code",
   "execution_count": 50,
   "metadata": {
    "collapsed": false
   },
   "outputs": [],
   "source": [
    "for i in range(len(ID)):\n",
    "    tmppz = pzs[i,:]\n",
    "    sz = z_trues[i]\n",
    "    tmpcdf = np.cumsum(tmppz)\n",
    "    #print tmpcdf[-1]\n",
    "    normcdf = tmpcdf/tmpcdf[-1]\n",
    "    #print len(normcdf),len(z_array)\n",
    "    cdfspl = sciint.InterpolatedUnivariateSpline(z_array,normcdf,k=1)\n",
    "    qdata = cdfspl(sz)\n",
    "    allPIT.append(qdata)\n",
    "    #print qdata"
   ]
  },
  {
   "cell_type": "code",
   "execution_count": 51,
   "metadata": {
    "collapsed": false
   },
   "outputs": [
    {
     "name": "stdout",
     "output_type": "stream",
     "text": [
      "111171 111171\n"
     ]
    }
   ],
   "source": [
    "print len(allPIT),len(ID)"
   ]
  },
  {
   "cell_type": "code",
   "execution_count": 52,
   "metadata": {
    "collapsed": true
   },
   "outputs": [],
   "source": [
    "npct = 100\n",
    "dpct = 100./(npct)\n",
    "curpct = 0.0\n",
    "finpct = []\n",
    "percentiles = np.arange(0,100,dpct)\n",
    "for i in range(npct):\n",
    "    tmpx = np.percentile(allPIT,curpct)\n",
    "    finpct.append(tmpx)\n",
    "    curpct += dpct\n",
    "    "
   ]
  },
  {
   "cell_type": "code",
   "execution_count": 53,
   "metadata": {
    "collapsed": false
   },
   "outputs": [
    {
     "name": "stdout",
     "output_type": "stream",
     "text": [
      "100 100\n"
     ]
    }
   ],
   "source": [
    "print len(percentiles),len(finpct)\n",
    "QT = percentiles/100."
   ]
  },
  {
   "cell_type": "code",
   "execution_count": 54,
   "metadata": {
    "collapsed": false
   },
   "outputs": [
    {
     "data": {
      "text/plain": [
       "<matplotlib.text.Text at 0x112b88e10>"
      ]
     },
     "execution_count": 54,
     "metadata": {},
     "output_type": "execute_result"
    },
    {
     "data": {
      "image/png": "[encoded data removed]",
      "text/plain": [
       "<matplotlib.figure.Figure at 0x1132d3b10>"
      ]
     },
     "metadata": {},
     "output_type": "display_data"
    }
   ],
   "source": [
    "plt.figure(figsize=(10,10))\n",
    "plt.plot(QT,finpct)\n",
    "plt.plot([0,1], [0, 1], color='k', linestyle='-', linewidth=2)\n",
    "plt.xlabel(\"QTheory\",fontsize=18)\n",
    "plt.ylabel(\"QData\",fontsize=18)"
   ]
  },
  {
   "cell_type": "code",
   "execution_count": null,
   "metadata": {
    "collapsed": true
   },
   "outputs": [],
   "source": []
  }
 ],
 "metadata": {
  "kernelspec": {
   "display_name": "Python 2",
   "language": "python",
   "name": "python2"
  },
  "language_info": {
   "codemirror_mode": {
    "name": "ipython",
    "version": 2
   },
   "file_extension": ".py",
   "mimetype": "text/x-python",
   "name": "python",
   "nbconvert_exporter": "python",
   "pygments_lexer": "ipython2",
   "version": "2.7.11"
  }
 },
 "nbformat": 4,
 "nbformat_minor": 0
}
