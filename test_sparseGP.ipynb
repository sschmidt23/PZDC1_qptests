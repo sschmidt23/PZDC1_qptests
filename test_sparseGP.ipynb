{
 "cells": [
  {
   "cell_type": "markdown",
   "metadata": {},
   "source": [
    "Test the sparseGP outputs and using='truth' form for qp Ensemble objects.  sparseGP aka GPz just outputs ID, zest, zqual, and zerr.  PDF is Gaussian centered at zest with width zerr.  Ibrahim generated this data back in January, Zahra is working on new GPz stuff, but I think the format will be the same."
   ]
  },
  {
   "cell_type": "code",
   "execution_count": 2,
   "metadata": {
    "collapsed": true
   },
   "outputs": [],
   "source": [
    "import numpy as np\n",
    "import qp\n",
    "import scipy.stats as sps\n",
    "import matplotlib.pyplot as plt\n",
    "import individual_metrics as inmet\n",
    "%matplotlib inline"
   ]
  },
  {
   "cell_type": "code",
   "execution_count": 3,
   "metadata": {
    "collapsed": false
   },
   "outputs": [
    {
     "name": "stdout",
     "output_type": "stream",
     "text": [
      "1000883 1000883\n"
     ]
    }
   ],
   "source": [
    "infile = \"sparseGP.csv\" #format is one commented line at top, 4 cols: buzzID zEst zQuality zErr *NOT CSV!*\n",
    "truthfile = \"Finbuzz_idsz.out\" #format is one commented line, 2 cols: buzzID specz\n",
    "data = np.genfromtxt(infile,skip_header=1,usecols=(1,3))\n",
    "mus = data[:,0]\n",
    "sigmas=data[:,1]\n",
    "print len(mus),len(sigmas)"
   ]
  },
  {
   "cell_type": "code",
   "execution_count": 4,
   "metadata": {
    "collapsed": false
   },
   "outputs": [],
   "source": [
    "szs = np.genfromtxt(truthfile,skip_header=1,usecols=(1))"
   ]
  },
  {
   "cell_type": "code",
   "execution_count": 5,
   "metadata": {
    "collapsed": false
   },
   "outputs": [
    {
     "name": "stdout",
     "output_type": "stream",
     "text": [
      "(1000883,)\n"
     ]
    }
   ],
   "source": [
    "print szs.shape\n",
    "numgals = len(szs)"
   ]
  },
  {
   "cell_type": "code",
   "execution_count": 6,
   "metadata": {
    "collapsed": true
   },
   "outputs": [],
   "source": [
    "allnormobjs = sps.norm(loc=mus,scale=sigmas)"
   ]
  },
  {
   "cell_type": "code",
   "execution_count": 7,
   "metadata": {
    "collapsed": false
   },
   "outputs": [],
   "source": [
    "test1 = sps.norm(loc=mus[0],scale=sigmas[1])\n",
    "test2 = sps.norm(loc=mus[1],scale=sigmas[1])"
   ]
  },
  {
   "cell_type": "code",
   "execution_count": 8,
   "metadata": {
    "collapsed": false
   },
   "outputs": [
    {
     "name": "stdout",
     "output_type": "stream",
     "text": [
      "0.0\n"
     ]
    }
   ],
   "source": [
    "print test1.pdf(1.1)"
   ]
  },
  {
   "cell_type": "code",
   "execution_count": 9,
   "metadata": {
    "collapsed": false
   },
   "outputs": [],
   "source": [
    "tmplist = []\n",
    "tmpszlist = []"
   ]
  },
  {
   "cell_type": "code",
   "execution_count": 10,
   "metadata": {
    "collapsed": false
   },
   "outputs": [],
   "source": [
    "for i,xxx in enumerate(mus):\n",
    "    if i%100==0:\n",
    "        tmpgaus = sps.norm(loc=mus[i],scale=sigmas[i])\n",
    "        tmplist.append(tmpgaus)\n",
    "        tmpszlist.append(szs[i])"
   ]
  },
  {
   "cell_type": "code",
   "execution_count": 11,
   "metadata": {
    "collapsed": false
   },
   "outputs": [
    {
     "name": "stdout",
     "output_type": "stream",
     "text": [
      "10009\n"
     ]
    }
   ],
   "source": [
    "numgals = len(tmplist)\n",
    "print numgals"
   ]
  },
  {
   "cell_type": "code",
   "execution_count": 12,
   "metadata": {
    "collapsed": false
   },
   "outputs": [],
   "source": [
    "allpdfs = qp.Ensemble(numgals,truth=tmplist)"
   ]
  },
  {
   "cell_type": "code",
   "execution_count": 13,
   "metadata": {
    "collapsed": false
   },
   "outputs": [],
   "source": [
    "newarray = np.arange(0.005,2.12,0.01)\n",
    "teststack = allpdfs.stack(loc=newarray,using='truth',vb=True)"
   ]
  },
  {
   "cell_type": "code",
   "execution_count": 14,
   "metadata": {
    "collapsed": false
   },
   "outputs": [],
   "source": [
    "stackyx = teststack['truth'][0]\n",
    "stackyy = teststack['truth'][1]"
   ]
  },
  {
   "cell_type": "code",
   "execution_count": 15,
   "metadata": {
    "collapsed": false
   },
   "outputs": [
    {
     "data": {
      "text/plain": [
       "[<matplotlib.lines.Line2D at 0x12c889a90>]"
      ]
     },
     "execution_count": 15,
     "metadata": {},
     "output_type": "execute_result"
    },
    {
     "data": {
      "image/png": "[encoded data removed]",
      "text/plain": [
       "<matplotlib.figure.Figure at 0x12bdb7090>"
      ]
     },
     "metadata": {},
     "output_type": "display_data"
    }
   ],
   "source": [
    "fit = plt.figure(figsize=(9,9))\n",
    "plt.plot(stackyx,stackyy)"
   ]
  },
  {
   "cell_type": "code",
   "execution_count": 16,
   "metadata": {
    "collapsed": true
   },
   "outputs": [],
   "source": [
    "szpdf = qp.PDF(samples=tmpszlist)"
   ]
  },
  {
   "cell_type": "code",
   "execution_count": 17,
   "metadata": {
    "collapsed": false
   },
   "outputs": [
    {
     "name": "stdout",
     "output_type": "stream",
     "text": [
      "Interpolating the `samples` parametrization\n",
      "Creating a `linear` interpolator for the samples parametrization.\n",
      "Plotted samples\n"
     ]
    },
    {
     "data": {
      "image/png": "[encoded data removed]",
      "text/plain": [
       "<matplotlib.figure.Figure at 0x10f1b0250>"
      ]
     },
     "metadata": {},
     "output_type": "display_data"
    }
   ],
   "source": [
    "szpdf.plot()"
   ]
  },
  {
   "cell_type": "code",
   "execution_count": 18,
   "metadata": {
    "collapsed": true
   },
   "outputs": [],
   "source": [
    "testme = inmet.EvaluateMetric(allpdfs,tmpszlist)"
   ]
  },
  {
   "cell_type": "code",
   "execution_count": 19,
   "metadata": {
    "collapsed": false
   },
   "outputs": [
    {
     "data": {
      "image/png": "[encoded data removed]",
      "text/plain": [
       "<matplotlib.figure.Figure at 0x12c8fb2d0>"
      ]
     },
     "metadata": {},
     "output_type": "display_data"
    }
   ],
   "source": [
    "qqplot = testme.QQplot(using='truth',dx=0.0001,Nquants=101)"
   ]
  },
  {
   "cell_type": "code",
   "execution_count": 20,
   "metadata": {
    "collapsed": false
   },
   "outputs": [
    {
     "name": "stdout",
     "output_type": "stream",
     "text": [
      "0.0215462589647 0.000181336985293\n"
     ]
    }
   ],
   "source": [
    "testKS_stat, testKS_pval = testme.KS(using='truth')\n",
    "print testKS_stat,testKS_pval"
   ]
  },
  {
   "cell_type": "code",
   "execution_count": 21,
   "metadata": {
    "collapsed": true
   },
   "outputs": [],
   "source": [
    "testAD_stat,testAD_pval = testme.AD(using='truth')"
   ]
  },
  {
   "cell_type": "code",
   "execution_count": 22,
   "metadata": {
    "collapsed": false
   },
   "outputs": [
    {
     "name": "stdout",
     "output_type": "stream",
     "text": [
      "16.3775541846 6.14817091682e-08\n"
     ]
    }
   ],
   "source": [
    "print testAD_stat,testAD_pval"
   ]
  },
  {
   "cell_type": "code",
   "execution_count": 23,
   "metadata": {
    "collapsed": false
   },
   "outputs": [
    {
     "name": "stdout",
     "output_type": "stream",
     "text": [
      "1.08246505785 0.0015782390048\n"
     ]
    }
   ],
   "source": [
    "testcvm_stat,testcvm_pval=testme.CvM(using='truth')\n",
    "print testcvm_stat,testcvm_pval"
   ]
  },
  {
   "cell_type": "code",
   "execution_count": null,
   "metadata": {
    "collapsed": true
   },
   "outputs": [],
   "source": []
  }
 ],
 "metadata": {
  "kernelspec": {
   "display_name": "Python 2",
   "language": "python",
   "name": "python2"
  },
  "language_info": {
   "codemirror_mode": {
    "name": "ipython",
    "version": 2
   },
   "file_extension": ".py",
   "mimetype": "text/x-python",
   "name": "python",
   "nbconvert_exporter": "python",
   "pygments_lexer": "ipython2",
   "version": "2.7.11"
  }
 },
 "nbformat": 4,
 "nbformat_minor": 0
}
