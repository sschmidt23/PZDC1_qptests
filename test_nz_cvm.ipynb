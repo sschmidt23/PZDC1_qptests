{
 "cells": [
  {
   "cell_type": "code",
   "execution_count": 1,
   "metadata": {
    "collapsed": false
   },
   "outputs": [],
   "source": [
    "import numpy as np\n",
    "import matplotlib.pyplot as plt\n",
    "import scipy.stats as ss\n",
    "import qp\n",
    "import individual_metrics as inmet\n",
    "import skgof\n",
    "%matplotlib inline"
   ]
  },
  {
   "cell_type": "code",
   "execution_count": 2,
   "metadata": {
    "collapsed": false
   },
   "outputs": [
    {
     "data": {
      "text/plain": [
       "'1.10.4'"
      ]
     },
     "execution_count": 2,
     "metadata": {},
     "output_type": "execute_result"
    }
   ],
   "source": [
    "np.__version__"
   ]
  },
  {
   "cell_type": "code",
   "execution_count": 3,
   "metadata": {
    "collapsed": false
   },
   "outputs": [
    {
     "name": "stdout",
     "output_type": "stream",
     "text": [
      "1999\n",
      "(1999, 211)\n",
      "[ 0.07577   0.1288    0.1774    0.1968    0.1754    0.1254    0.07185\n",
      "  0.03299   0.01213   0.003573  0.        0.        0.        0.        0.\n",
      "  0.        0.        0.        0.        0.        0.        0.        0.\n",
      "  0.        0.        0.        0.        0.        0.        0.        0.\n",
      "  0.        0.        0.        0.        0.        0.        0.        0.\n",
      "  0.        0.        0.        0.        0.        0.        0.        0.\n",
      "  0.        0.        0.        0.        0.        0.        0.        0.\n",
      "  0.        0.        0.        0.        0.        0.        0.        0.\n",
      "  0.        0.        0.        0.        0.        0.        0.        0.\n",
      "  0.        0.        0.        0.        0.        0.        0.        0.\n",
      "  0.        0.        0.        0.        0.        0.        0.        0.\n",
      "  0.        0.        0.        0.        0.        0.        0.        0.\n",
      "  0.        0.        0.        0.        0.        0.        0.        0.\n",
      "  0.        0.        0.        0.        0.        0.        0.        0.\n",
      "  0.        0.        0.        0.        0.        0.        0.        0.\n",
      "  0.        0.        0.        0.        0.        0.        0.        0.\n",
      "  0.        0.        0.        0.        0.        0.        0.        0.\n",
      "  0.        0.        0.        0.        0.        0.        0.        0.\n",
      "  0.        0.        0.        0.        0.        0.        0.        0.\n",
      "  0.        0.        0.        0.        0.        0.        0.        0.\n",
      "  0.        0.        0.        0.        0.        0.        0.        0.\n",
      "  0.        0.        0.        0.        0.        0.        0.        0.\n",
      "  0.        0.        0.        0.        0.        0.        0.        0.\n",
      "  0.        0.        0.        0.        0.        0.        0.        0.\n",
      "  0.        0.        0.        0.        0.        0.        0.        0.\n",
      "  0.        0.        0.        0.        0.        0.        0.        0.\n",
      "  0.        0.        0.        0.      ]\n",
      "0.038\n",
      "0.348\n"
     ]
    }
   ],
   "source": [
    "#infile = \"/Users/samschmidt/PZPAPER/mystuff/test_magscat_trainingfile_probs.out\"\n",
    "#szfile = \"/Users/samschmidt/PZPAPER/mystuff/train_justsz.out\"\n",
    "infile = \"/Users/samschmidt/PZPAPER/mystuff/test_magscat_trainingfile_probs_top2000.out\"\n",
    "szfile = \"/Users/samschmidt/PZPAPER/mystuff/train_justsz_top2000.out\"\n",
    "z_array = np.arange(0.0050,2.1100,0.0100) #this is the grid output by BPZ for my runs\n",
    "z_trues = np.loadtxt(szfile,skiprows=1)\n",
    "alldata = np.loadtxt(infile,skiprows=1)\n",
    "ID = alldata[:,0]\n",
    "pzs = alldata[:,1:]\n",
    "ngals = len(ID)\n",
    "print ngals\n",
    "print pzs.shape\n",
    "print pzs[0]\n",
    "print z_trues[0]\n",
    "print z_trues[-1]"
   ]
  },
  {
   "cell_type": "code",
   "execution_count": 4,
   "metadata": {
    "collapsed": false
   },
   "outputs": [
    {
     "name": "stdout",
     "output_type": "stream",
     "text": [
      "made the pool of 4 in 0.0288481712341\n",
      "made the catalog in 3.34554409981\n"
     ]
    }
   ],
   "source": [
    "approx_pdf = qp.Ensemble(pzs.shape[0],gridded=(z_array,pzs))"
   ]
  },
  {
   "cell_type": "code",
   "execution_count": 5,
   "metadata": {
    "collapsed": false
   },
   "outputs": [],
   "source": [
    "testme = inmet.EvaluateMetric(approx_pdf,z_trues)"
   ]
  },
  {
   "cell_type": "code",
   "execution_count": 6,
   "metadata": {
    "collapsed": false
   },
   "outputs": [
    {
     "data": {
      "image/png": "[encoded data removed]",
      "text/plain": [
       "<matplotlib.figure.Figure at 0x103b9d2d0>"
      ]
     },
     "metadata": {},
     "output_type": "display_data"
    }
   ],
   "source": [
    "qqplot = testme.QQplot(using='gridded',dx=0.0001,Nquants=101)"
   ]
  },
  {
   "cell_type": "code",
   "execution_count": 7,
   "metadata": {
    "collapsed": false
   },
   "outputs": [
    {
     "name": "stdout",
     "output_type": "stream",
     "text": [
      "[ 0.    0.01  0.02  0.03  0.04  0.05  0.06  0.07  0.08  0.09  0.1   0.11\n",
      "  0.12  0.13  0.14  0.15  0.16  0.17  0.18  0.19  0.2   0.21  0.22  0.23\n",
      "  0.24  0.25  0.26  0.27  0.28  0.29  0.3   0.31  0.32  0.33  0.34  0.35\n",
      "  0.36  0.37  0.38  0.39  0.4   0.41  0.42  0.43  0.44  0.45  0.46  0.47\n",
      "  0.48  0.49  0.5   0.51  0.52  0.53  0.54  0.55  0.56  0.57  0.58  0.59\n",
      "  0.6   0.61  0.62  0.63  0.64  0.65  0.66  0.67  0.68  0.69  0.7   0.71\n",
      "  0.72  0.73  0.74  0.75  0.76  0.77  0.78  0.79  0.8   0.81  0.82  0.83\n",
      "  0.84  0.85  0.86  0.87  0.88  0.89  0.9   0.91  0.92  0.93  0.94  0.95\n",
      "  0.96  0.97  0.98  0.99  1.  ] [  3.20088817e-15   8.69676779e-03   1.71633381e-02   2.95903798e-02\n",
      "   3.93679625e-02   5.21591162e-02   6.17542958e-02   6.94302548e-02\n",
      "   7.63039453e-02   8.49499621e-02   9.45956417e-02   9.98923965e-02\n",
      "   1.08300725e-01   1.16011670e-01   1.22465327e-01   1.32257714e-01\n",
      "   1.39150703e-01   1.47321222e-01   1.53196608e-01   1.58877663e-01\n",
      "   1.65834624e-01   1.71213387e-01   1.77709129e-01   1.83713650e-01\n",
      "   1.91156220e-01   1.99016234e-01   2.07587741e-01   2.16109106e-01\n",
      "   2.22638900e-01   2.31180030e-01   2.40722402e-01   2.50261935e-01\n",
      "   2.59325749e-01   2.67324263e-01   2.72937950e-01   2.80480795e-01\n",
      "   2.89681266e-01   2.95290302e-01   3.05345763e-01   3.12984418e-01\n",
      "   3.22393146e-01   3.27505588e-01   3.38473477e-01   3.46696911e-01\n",
      "   3.55609413e-01   3.63188165e-01   3.70948007e-01   3.77292284e-01\n",
      "   3.85453777e-01   3.95213049e-01   4.00471912e-01   4.09714027e-01\n",
      "   4.19527274e-01   4.26177382e-01   4.35845676e-01   4.46395278e-01\n",
      "   4.56213464e-01   4.64067412e-01   4.71273292e-01   4.75890880e-01\n",
      "   4.82175018e-01   4.92321945e-01   4.98518592e-01   5.07846573e-01\n",
      "   5.17558580e-01   5.25627365e-01   5.38167627e-01   5.45320868e-01\n",
      "   5.58590099e-01   5.70547915e-01   5.80387551e-01   5.89407672e-01\n",
      "   6.01725367e-01   6.09372597e-01   6.16742974e-01   6.26744675e-01\n",
      "   6.40172914e-01   6.50515153e-01   6.59984481e-01   6.74495654e-01\n",
      "   6.86558039e-01   6.99359658e-01   7.13481833e-01   7.30720400e-01\n",
      "   7.39871400e-01   7.53610442e-01   7.71159355e-01   7.81796175e-01\n",
      "   7.99161312e-01   8.10453136e-01   8.27124750e-01   8.46500559e-01\n",
      "   8.61606497e-01   8.77843957e-01   8.94944802e-01   9.09098308e-01\n",
      "   9.27738108e-01   9.45180047e-01   9.72684946e-01   9.95662961e-01\n",
      "   1.00188418e+00]\n"
     ]
    }
   ],
   "source": [
    "qt,qd = testme.QQvectors(using='gridded',dx=0.0001,Nquants=101)\n",
    "print qt,qd"
   ]
  },
  {
   "cell_type": "code",
   "execution_count": 8,
   "metadata": {
    "collapsed": false
   },
   "outputs": [],
   "source": [
    "testPIT = testme.PIT()"
   ]
  },
  {
   "cell_type": "code",
   "execution_count": 9,
   "metadata": {
    "collapsed": false
   },
   "outputs": [
    {
     "name": "stdout",
     "output_type": "stream",
     "text": [
      "[0.52159441421365538, 0.87156650084031684, 0.45217926362313249, 0.57076253240551467, 0.63568383139092954, 0.68143123428704, 0.45717948897870947, 0.2332214059706052, 0.14570803334747556, 0.19730112159101926, 0.50746334421174932, 0.62359321147557101, 0.47330592065716248, 0.42139649000487545, 0.57234861329260378, 0.49853951483107817, 0.48163883382943462, 0.73367224231847705, 0.55778263560896801, 1.0012460372528649, 0.58886768848605608, 0.6543603084008931, 0.84853364953233146, 0.65849212986841044, 0.37493063034144797, 0.2975680951361781, 0.3236963682508312, 0.7338275706205335, 0.7124205388754119, 0.15452042535533192, 0.62679012827632563, 0.45658733459762191, 0.3189889188643153, 0.70907678308949162, 0.40994932623285607, 0.20333596000787174, 0.80993635461951052, 0.26076379411214567, 0.92010063380447527, 0.41954796238305475, 0.76159563749984194, 0.75352893241649743, 0.079701820840141838, 0.51198982856957864, 0.5772445347330043, 0.29472818298280945, 0.028599582676211471, 0.72335930789602954, 0.87102827149107542, 0.96678988035311564, 0.87348127930017527, 0.93940938195150125, 0.67778226727066659, 0.95753841753655766, 0.59455240524049913, 0.99552525545166248, 0.95309987073350166, 0.60801712154091303, 0.92068112975272332, 0.64906789567308443, 0.74002105908603411, 0.67155273105459246, 0.21632208944505729, 0.94499287682113486, 0.46680511121398888, 0.89970526525622141, 0.46410832595790863, 0.83745140515101835, 0.92161253125314058, 0.86513961413616969, 0.75844830913813166, 0.98146250549410874, 0.65579827621380349, 0.61581099363929892, 0.93495604047212844, 0.34185777351150248, 0.42040314019303288, 0.12496416428328121, 0.18873053808385123, 0.99568331269295851, 0.55618347985305361, 0.89631790677901102, 0.0623148208330618, 0.89150873046470247, 0.77822788632980699, 0.5675058475993856, 0.6503568042816239, 0.39559965580777651, 0.19278891499682754, 0.75456575535908799, 0.73070471879453702, 0.5707377167908666, 0.66328977973865033, 0.83869420601605893, 0.54153179757816983, 1.000165013147138, 0.38274893015262862, 0.09033037517748653, 0.54371419942716837, 0.60960019360791273, 0.99655402699329798, 0.82174441423451194, 0.79612236469611986, 0.98472469010898878, 0.5660522955420858, 0.09231578052658107, 0.63974430989583908, 0.78629945543339252, 0.78509347079378089, 0.31704577839061943, 0.72558775170547674, 0.46564451333848106, 0.64541595288594766, 0.92831782827889875, 0.40499183052283039, 0.46079659308616266, 0.19050885219016622, 0.59322269488224721, 1.0001732766610083, 0.81223380299166048, 0.49867378010668117, 0.33416355267748432, 0.59105790894206656, 0.56451398069240166, 0.61404488353431985, 0.77790739276029552, 0.79732054646029393, 0.44963371391885304, 0.84502475581690562, 0.74477850948754953, 0.8112876128760943, 0.9175776736335709, 0.62243864783761227, 0.282459638708428, 0.49221485515902991, 0.45406044523011646, 0.60400195800389145, 0.33843132431569029, 0.31292953715729527, 0.99645160637104246, 0.37376955669978923, 0.71550487739517366, 0.58569456375319773, 0.97546102986332284, 0.077125038375420882, 0.27342992101098545, 0.91339590341298416, 0.41541327554168056, 0.37925310041430771, 0.47245648386856187, 0.68474326809329944, 1.001884184732051, 0.33074708592191837, 0.61239643142122746, 0.10579932062921032, 0.11158195777005488, 0.14834142322007088, 0.81186601521560098, 0.28381452887172226, 0.15364385769988459, 0.46384979389709646, 0.57694076687798201, 0.54425040523903701, 0.65419934540848323, 0.32318858770497755, 0.98720828780550696, 0.6656767524840923, 0.58235273823283562, 0.80926343311932991, 0.27868978283217211, 0.53699685418243615, 0.2763534249232682, 0.76295237076225053, 0.29561064561063505, 0.60418527818023215, 0.21464248535750771, 0.60840155900576443, 0.75307155520045199, 0.67419464986338962, 0.14494522636933679, 0.99688896777434277, 0.42475304851827489, 3.2008881720003503e-15, 0.09983789097265218, 0.27791416932149249, 0.36229289529624753, 0.87164408179752595, 0.44297743048171362, 0.68559796249369731, 0.41581786327143722, 0.90770826667409465, 0.36461955760883424, 0.59476278804663341, 0.27337708636038593, 0.56176142920858818, 0.79675342352042522, 0.25453362140487112, 0.20011625953579501, 0.70746703733515792, 0.063492421904545612, 0.096968722097403093, 0.85758810189459023, 0.7883855968641561, 0.67886721753936552, 0.41122381129028873, 0.83985793162498468, 0.88718552059725098, 0.39451217219473994, 0.99938424052919583, 0.43565388607666727, 0.1848523530805842, 0.60572403363211713, 0.77474629846529541, 0.52478035719640659, 0.8695637390934412, 0.22022291130645194, 0.32322364697151285, 0.64063723504790182, 0.55205376034427445, 0.30303544696454221, 0.91165205443008435, 0.49688742294014837, 0.13515872161087042, 0.092779012812356634, 0.49207455303079189, 0.7809956566739491, 0.82922228011814003, 0.55704218690311824, 0.53830503627048654, 0.66296467853185681, 0.84708779714132787, 0.51329576702251978, 0.20740890080943056, 0.15982326824690202, 0.21058975770973939, 0.17851333783994014, 0.34780632096838143, 0.52454422454420369, 0.30125626406945644, 0.66734776668225593, 0.79964973458828925, 0.76336072147892842, 0.27759928761708641, 0.84054423765892661, 0.50200337045499144, 0.28958451050023437, 0.46453457093083983, 0.50706643747191826, 0.72243156009502785, 0.29491697574720677, 0.37233891918808693, 0.22790429499999151, 0.66481848498329887, 0.24242335309521507, 1.0007417210290603, 0.037772233166995371, 0.45202317883775717, 0.4516592236756935, 0.39409269267778108, 0.2947976020239681, 0.30125162899371882, 0.74489556099164944, 0.77089604476720774, 0.5274833685477609, 0.55692716687397503, 0.76782549304701009, 0.47941953550118344, 0.36711704860405697, 0.02296758158604045, 0.60720838145518163, 0.31538763733224834, 0.34046745719524457, 0.64415338709158765, 0.45638244046426962, 0.58159684722519955, 0.49729648648241348, 0.95375434112406732, 0.68004563648596372, 0.77853500101994022, 0.3765974382589069, 0.058424371193269452, 0.66289845029605543, 1.0000378301986736, 0.43383837626271637, 0.25814838554201591, 0.056098798416553637, 0.0031743980798593155, 0.13292626291697079, 0.89913281890736607, 0.16397621833527945, 0.32583603570631026, 0.57551047551045309, 0.74727840980119487, 0.37523041566825183, 0.73125481886080412, 0.54034382618885035, 0.36884503921069278, 0.64809014495794726, 0.67928239837907933, 0.39193201295180485, 0.4959074480405124, 0.38165891156583659, 0.48155651844346353, 0.52049371406625033, 0.13468906937813535, 0.51394625609599287, 0.27387159714019371, 0.17859666473996005, 0.47538203039438887, 0.6190999652009499, 0.54108445505751301, 0.6288171860235825, 0.26598945353594672, 0.95477426890347006, 0.018268853819769879, 0.63861661181790252, 0.71699805705631625, 0.46764199414801755, 0.64714820684859797, 0.35277134699713264, 0.17437875854703364, 0.13468124043720972, 0.85535536966942027, 0.29295612503473978, 0.52259047439994233, 0.23483322166107573, 0.32950298850895393, 0.38465092175330728, 0.11474171558965891, 0.45192575962878156, 0.69710067100668227, 0.09384547276289501, 0.38013160999762652, 0.014624798840723546, 0.48648948106309464, 0.79367781835925677, 0.43293181045344731, 0.79254843390455121, 0.15345820812537045, 0.52879002879000803, 0.077406446706093299, 0.3168713472516016, 0.075590193753025017, 0.90079050079046363, 0.099907769815536437, 0.90953888218830181, 0.70467201382724221, 0.391472658800738, 0.31317899456803278, 0.39552126552125033, 0.18878849284804852, 0.32066509233961937, 0.14847351526484298, 0.27651295857353392, 0.25010555591112327, 0.17837940381842102, 0.31190367142201819, 0.68379122934205805, 0.043295107933511996, 0.035868953344767605, 0.6091054175724383, 0.34868088063747782, 0.39097847451110623, 0.56884561109178233, 0.23308659981858892, 0.35263564344949067, 0.33815220326032908, 0.82210229970928139, 0.38373207199874759, 0.084346208306165502, 0.68788600176959935, 0.62144329072162108, 0.45650858849512926, 0.93037814509023453, 0.60990829406863922, 0.3670509342224072, 0.16566004491828926, 0.25193211852482145, 0.65850897131157615, 0.58905594124687533, 0.068485753343284966, 0.69204493290414371, 0.58274095990990415, 0.29953642397350111, 0.62026144607828471, 0.57452409737949017, 0.39109663922796073, 0.73146477935151089, 0.74280361401804029, 0.15305351026754629, 0.59969632277576845, 0.32603217793563161, 0.43661898302337271, 0.069037268906856297, 0.40461512614116574, 0.39812577559344159, 0.027210582163705959, 0.50519223634563493, 0.66186240206394276, 0.27459797942221753, 0.43999343937016366, 0.45255283213015757, 0.069660616386744437, 0.0093977348908747625, 0.26775907637396851, 0.15716133454254499, 0.65375443992893567, 0.7497244132281351, 0.82380510037153509, 0.36640118725697557, 0.28065836624596863, 0.01665462012258892, 0.17712768404064058, 0.68755443515926096, 0.62905152531657049, 0.17489811407543265, 0.6728352641762938, 0.32601666895307602, 0.73393188043322055, 0.6166115800826053, 0.25948342397069979, 0.32712350252993655, 0.49719967859982039, 0.68564654793049151, 0.12539431725543401, 0.97216177363608969, 0.32370677715074375, 0.28195993503518324, 0.61588353937733409, 0.63778570385789002, 0.39738842497551263, 0.081324877889364378, 0.6034618800177376, 0.33774929601125231, 0.89381372890199895, 0.39621895287925285, 0.42620989516040381, 0.58692703489242004, 0.92029699732371595, 0.32751247084800661, 0.54773886106571124, 0.80020404418012059, 0.43517229481388758, 0.704182008916311, 0.39589439853442115, 0.50985303573801732, 0.89683224179238008, 0.35904732819052082, 0.46001055248169115, 0.39408090514567629, 0.23046948990663491, 0.34206670960101809, 0.42338865395594077, 0.52419383549559295, 0.24673749119942909, 0.11664246649726352, 0.62052522262494481, 0.20790442992533767, 0.77357681449951032, 0.26984066665399137, 0.5044265325977757, 0.58243532327359815, 0.89632285170837667, 0.42657390732196981, 0.43981856875124653, 0.4896946725205083, 0.40447598056763584, 0.0202904139191738, 0.15063160673625511, 0.32389366991393059, 0.37472797408037595, 0.46527847079797224, 0.12000987475312902, 0.032883086259940471, 0.2720246012300529, 0.63244579625328923, 0.61196563248112124, 0.37171442000938759, 0.91462675134518945, 0.16506354611639268, 0.29528064565797618, 0.28448753529084203, 0.86630739999996498, 0.65052775052772538, 0.21613374717888734, 0.61134673924128202, 0.085306894475898593, 0.40109534014192549, 0.8516831450494019, 0.27872047523618793, 0.062447073835624999, 0.048030502379305791, 0.25482078055579421, 0.36214989125270719, 0.73420354078820316, 0.52569096268799476, 0.17202027933230804, 0.008227588848532379, 3.9337600678872998e-15, 0.30659022730710345, 0.14956579084203583, 0.56529918957404413, 0.4002518093169305, 0.051727766911067521, 0.25440647977524533, 0.97840021758886242, 0.94811238206748261, 0.37907754223926754, 0.58966237297597501, 0.40984668490606818, 0.076049531485944247, 0.46134428068742228, 0.17752893706593981, 0.57023823905306381, 0.096930873951144109, 0.018455294162354093, 0.067001447023150085, 0.23281857517385943, 0.45433961039615245, 0.42566800398794769, 0.10719073269342355, 0.99743644883453242, 0.35666350070907676, 0.56078144761270943, 0.30912545486672061, 0.73431967095075712, 0.1661361965914056, 0.51628295822506154, 0.86632820016358081, 0.017048285627714713, 0.79774241612131069, 0.52302608554793861, 0.35627548096969724, 0.28040469254545991, 0.029653622168183489, 0.32220191247185359, 0.3988468273726431, 0.30832340808519182, 0.26774578381323449, 0.7206620619861579, 0.97660659390327953, 0.25312935069610371, 0.50033798208693059, 0.56107889576525238, 0.27215103507088334, 0.33374871370754117, 0.48178541533111613, 0.19348586767155609, 0.90318989577173492, 0.48028043102618934, 0.49978551437051877, 0.67276939246749523, 0.075371676150285158, 0.39438676174560672, 0.81040816061227339, 0.61318714505857208, 0.40287714751116749, 0.67491132739413395, 0.69169935137273031, 0.69415364354167586, 0.74308080626254602, 0.71229456924791124, 0.52829989530092258, 0.01716661766706188, 0.00050357225248160223, 0.72035830928335309, 0.37345085710456055, 0.9791760312172394, 0.32521020924919647, 0.77012886110855339, 0.53912514726558991, 0.18852689396703892, 0.45250948551220171, 0.71866143976476116, 0.19927296338039449, 0.6738419719354759, 0.58676224114687159, 0.30756919243079767, 0.49017550877542099, 0.60802516601186141, 0.2387030849498743, 0.77380375668065127, 0.85311910661535539, 0.63594858138295174, 0.10838489546405818, 0.47341457463317688, 0.59689630862917531, 1.0008932617561503, 0.16587062776232997, 0.41651230956622504, 0.35445489900387728, 0.34456139122781287, 0.15889359659604735, 0.49314926993940511, 0.48221181108739103, 0.17687829650712311, 0.91019282150245806, 0.39521141423868172, 0.33072614051873817, 0.38663139358023163, 0.24312691888431442, 0.4981739561749296, 0.66710416439564602, 0.74201956807824343, 0.20397563856030754, 0.94311743068983234, 1.0000222249505342, 0.41818831005818358, 0.63849267698532908, 0.38461049674037801, 0.10803418666671813, 0.49465241032082158, 0.39238954999998615, 0.68694819923430284, 0.46410283847880612, 0.448472070706398, 0.64754422422471936, 0.55533483325831745, 0.44643182154555955, 0.29584992035230023, 0.31111542226963457, 0.39643923025623068, 0.16410880044001808, 0.44359550106746731, 0.46742138817561263, 0.47765477211949997, 0.13948135207458948, 0.19937726464901734, 0.43250472743852797, 0.62669922134747347, 0.8011852673012736, 0.37719540708057092, 0.29614946523127367, 0.62512772628692082, 0.78983253815788812, 0.064594010570545729, 0.88825844320115599, 0.3651974191457894, 0.64548949702734171, 0.3327720938604577, 0.38169883231591334, 0.048049985948891483, 0.5091039168824758, 0.57598458463200819, 0.59670472908647898, 0.90216038031121648, 0.16566599528767534, 0.35830827402267462, 0.44606638767641482, 0.0087324085896604703, 0.59611461216618233, 0.26406294751073145, 0.5443669234610885, 0.30544872884660185, 0.015036702518353725, 0.29272544441017934, 0.50109993730355507, 0.35499059030109842, 0.43942925940516425, 0.75004754709959742, 0.55501201110500076, 0.64928717776930855, 0.1020694078971696, 0.27887666044021614, 0.59329802963840206, 0.46217122400714289, 0.47601163866963048, 0.23128884948813402, 0.32489476122075878, 0.55230606467558663, 0.13755662524772894, 0.50477020971480457, 0.10925978202642153, 0.19611267166197993, 0.90096266744832365, 0.74428332423310406, 0.54177589970390272, 0.87126663393293768, 0.19459971657987163, 0.43518017355786115, 0.90279156757094248, 0.51321736434726817, 0.30662662765266135, 0.59188759946266645, 0.076764510587062781, 0.8013009734174894, 0.057011172793269012, 0.19270085332474041, 0.29727836531922242, 0.87742915253013498, 0.55789968680248447, 0.60732908632688276, 0.23602347046940264, 0.69155171293113094, 0.99317445534886928, 0.41659511838340296, 0.5107962290152025, 0.047165584035397133, 0.15527880536072866, 0.94480901051903421, 0.010996414474903474, 0.64702978385319909, 0.69706823811287733, 0.26343325163471393, 0.78107195323051903, 0.76813348559951322, 0.26699105247208793, 0.47581176103545325, 0.34278626131361123, 0.088138630475062846, 0.7006071088596989, 0.73980097223975771, 0.088641471480068193, 0.48890031101743098, 0.21117333685289782, 0.5744702514425486, 0.15237436620563072, 0.16582062851119739, 0.7321134223893353, 0.90775569551135415, 0.91812701596369539, 0.71736040640116439, 0.0085201105933402129, 0.23876122502509026, 0.09179010203581528, 0.56404799094417701, 0.78115420815135295, 0.64341190187396069, 0.32750407756930938, 0.29377197885429551, 0.65473388704612479, 0.0092238241046335139, 0.60312051454129212, 0.4272696094213857, 0.4506354507625267, 0.14723014554571257, 0.41858530346708089, 0.38540470999998561, 0.86399257569682164, 0.3413948197637261, 0.019008779341264576, 0.034543455704087261, 0.48789158475888839, 0.41903075673814677, 0.88039204178380681, 0.35090782353369371, 0.34634782808695586, 0.44189049816105419, 0.23063340950113553, 0.014242077542960602, 0.42183819779822707, 0.078979587591875303, 0.91421571286543735, 0.64825769060006344, 0.40269532916935336, 0.61076551064541007, 0.46281727126906935, 0.36261398397412148, 0.26874160127182883, 0.46043821776889354, 0.21847165537958499, 0.30696209291296472, 0.46836638366382061, 0.78356404307867633, 0.041817547722835177, 0.40218039329582755, 0.65701676408180254, 0.2684045356144637, 0.069455713850572851, 0.46851642015841882, 0.014130460522436357, 0.57143310025359251, 0.63800247387133402, 4.0001453082307635e-15, 0.62629757377162387, 0.36413333040002321, 0.020765774927306972, 0.83951665104893625, 0.43586235377286625, 0.93600442788040916, 0.00350363687253794, 0.57954760230921643, 0.01360514371694649, 0.057583072181191942, 0.13341044382683678, 0.074783476042722077, 0.77366979360218913, 0.21465329728313959, 0.096527928127026846, 0.37308633456831436, 0.78045146618500794, 0.3951500187010708, 0.50146109058759825, 0.076286141229808674, 0.11229718654138031, 0.73075083965557786, 0.61493149232923738, 0.79631057045541076, 0.60613256839768259, 0.77477018488201965, 0.91888353063418915, 0.79304468153614716, 0.80284856842563157, 0.35324538498693236, 0.47525392576176001, 0.58481138358702123, 0.71175326831041019, 0.60515870952514828, 0.19654510689065974, 0.023499028579990078, 0.97260126306474703, 0.47170383407666489, 0.80388323469464185, 0.27173294997123759, 0.71063707457448444, 1.0001226277874242, 0.35161142265170164, 0.2899300646157269, 0.64619710267820363, 0.15260076115057686, 0.73686046504648073, 0.4003926272831565, 0.018366656063049797, 0.19875950364545503, 0.88308200264434, 0.42197754948171989, 0.11406188626718383, 0.51424391073239328, 0.835703692814738, 0.34369593281793753, 0.99003474083373921, 0.52547897011672584, 0.52037350730073306, 0.98011461289396051, 0.1263080857004644, 0.62085676313258142, 0.35606083333832161, 0.21474625438858194, 0.74171201372960516, 0.4893592552628534, 0.78244428181527936, 0.027861400111022831, 0.18190735539235847, 0.24299024210732975, 0.55521833264162179, 0.42170212310637728, 0.32719583247870748, 0.68629793280966567, 0.75245308199863647, 0.84111844648035405, 0.63196642254436242, 0.81061259337776936, 0.47439055573259714, 0.58531638961613464, 0.16493364338486421, 0.80347491757441303, 0.95764003424086519, 0.28299400994009105, 0.73709545340439242, 0.27116550235251391, 0.070034804946694493, 0.82356461782305668, 0.14533182665912983, 0.223245696481989, 0.26704317043169706, 0.62087667860315887, 0.033276882237095615, 0.42455901411153441, 0.54028686036706708, 0.48183118283224424, 0.30494520494519611, 0.93312388741540608, 0.5431636529448215, 0.49081900495471059, 0.76344209980048017, 0.11836851184255882, 0.53649625619673269, 0.92832417505491271, 0.72348399686670151, 0.60678635170601436, 0.88897168830126272, 0.66650767080053419, 0.46238124569403155, 0.7256999103063404, 0.4863616817653908, 0.86692153733383137, 0.80649160384421226, 4.9325532293471413e-15, 0.303224622425529, 0.5205055915703215, 0.98018092360177289, 0.71310082337833791, 0.51257763322910421, 0.45379740378718703, 0.586298441318438, 0.86150460387736827, 0.43862636307631786, 0.79294786276746243, 0.47922686788345736, 0.49438728470514981, 0.68396907097931625, 0.58290566581131031, 0.36534931534930215, 0.49845233499805275, 0.88641395297203673, 0.51626924108597616, 0.31200520989579289, 0.68295882659441998, 0.47148100110100649, 0.14832918807505335, 0.92368047360943528, 0.23060837066531467, 0.44230446143829005, 0.71189914307053948, 0.68800500378981477, 0.97975124198008878, 0.54256599684789142, 0.67700489377256989, 0.81333263669450073, 0.93736229394089576, 0.43376418578185433, 0.40965325988905998, 0.70485774593094319, 0.51251485086133042, 0.7405753664668292, 0.75839979601220975, 0.22251567410030745, 0.69117664118531519, 0.21984959849598013, 0.5326342039019627, 0.86833594843005779, 0.54360399477201626, 0.47295427975384746, 0.53274839357387671, 0.88677119333905785, 0.56734195387354514, 0.68162017055792712, 0.6517939461815907, 0.38181894544842399, 0.38524240795385734, 0.13423790692911389, 0.91998763013603169, 0.80373275130662658, 0.70102234544688247, 0.77951854141855736, 0.16250600235713936, 0.27797859519596207, 0.63331333253327826, 0.65050442250027785, 0.4904579255812016, 0.75357564227115426, 0.1751510358155878, 0.61264011297636456, 0.46723593832372656, 0.14216083294474685, 0.33449629724813862, 0.93029622982042803, 0.4973931301744044, 0.68424720274158379, 0.26690498166512039, 0.01708462903798745, 0.22221986665747495, 0.25467842310164784, 0.35430865961587893, 0.6168037766149238, 0.38244799064613072, 0.1695858860713427, 0.64508984059778651, 0.18037027559217939, 0.015238100952526944, 0.043144077083666479, 0.048241381923554733, 0.73626226589654931, 0.29448656986185578, 0.37464629458974097, 0.50963458453472821, 0.47018281926870653, 0.047052150124792455, 0.044975049550893174, 0.24375261876308674, 0.72497417476754911, 0.80921217695698533, 0.42283511899505966, 0.71980818386185597, 0.16563075843765715, 0.40017224017222786, 0.84858289433154377, 0.15552639052780742, 0.073950904637467577, 0.2114390539869562, 0.15820827881760036, 0.051163798487062526, 0.52652475756037243, 0.82678612185797051, 0.60612206591547568, 0.96924418623956299, 0.2676876516827903, 0.62731525393828225, 0.87352501145251227, 0.079887952240954255, 0.92849046543811609, 0.66267737625166034, 0.54097437615536936, 0.02641456386835099, 0.11819089626195917, 1.0002504141108903, 0.25848500309405548, 0.32105520608454569, 0.40223836122159157, 0.42091354578162166, 0.85622110088895431, 0.37429755871026049, 0.15192072064360176, 0.29380366273610764, 0.14436930806374609, 0.065351011400985176, 0.27936791158021268, 0.45038417515365547, 0.96887217740600962, 0.020409647406980234, 0.59462569200597515, 0.035760974901953388, 0.88320451879340545, 0.40007320605261415, 0.65467889539437563, 0.10285185250739476, 0.52909206883364712, 0.26838049784835705, 5.1992056128917277e-15, 0.20134321514822301, 0.54280174512843093, 0.052203324609590998, 0.48366435198609409, 0.88366161654999675, 0.49304375564993846, 0.048857552506215873, 0.4581189179242765, 0.29505347085552563, 0.40932208220535743, 0.41360168716118201, 0.62608021666337699, 0.3619388732568895, 0.62049720684914744, 0.15912937406914454, 0.97657533082283376, 0.26230087575166328, 0.54547929972768427, 0.080988680023362222, 0.33095931206416834, 0.10273179612572594, 0.26135325692411948, 0.59175366279759745, 0.28798547402904262, 0.27276894608797236, 0.29266898305117861, 0.35608863007697295, 0.30581123958643991, 0.54284245695192235, 0.90006639375895192, 0.46190471904897523, 0.2588068664205927, 0.71328841215619021, 0.64342651035164544, 0.46358224031281481, 0.014071300783418349, 0.11924639738270408, 0.37954955765750809, 0.92950263507901565, 0.16730447882405633, 0.99999999999995914, 0.92768769786744443, 0.42290689511022467, 0.38809853119276549, 0.1602256146582019, 0.47900530193636109, 0.5511930299329868, 0.11621698700929897, 0.35796350039400721, 0.30387514935184234, 0.17341242054777289, 0.488077462295813, 0.8250352519330505, 0.54501332426714699, 0.48189696208454352, 0.50906305591024359, 0.4333787693473779, 0.65038373042972519, 0.57257921456904071, 0.37238571029973749, 0.48202784699749218, 0.45497430495584162, 0.21156968430315301, 0.31962569999999163, 0.57174910897503162, 0.59901172785611234, 0.81162685258235978, 0.34656407594852179, 0.47717585763784892, 0.53119787827904363, 0.46648059021814664, 0.4024475583914951, 0.81015661223530477, 0.83887605762516815, 0.53877097541949004, 0.48867965380951894, 0.47458540414594319, 0.55665877943209985, 0.2951528079033422, 0.10390184546643755, 0.32503164743684115, 0.031294853705150123, 5.6656210364538949e-15, 0.33617624822238573, 0.88689696486019132, 0.6255029798247782, 0.13830108621520615, 0.27113424638903666, 0.32700699229929164, 0.48695970446875375, 0.50192528431074834, 0.146069074177411, 0.17495550017799502, 0.28569285930713412, 0.20225406389692482, 0.17176650296453608, 0.35554785520132914, 0.57393752493630767, 0.15587392574498563, 0.17888146440731945, 0.36259193483387903, 0.064276319445825972, 0.18094569581455994, 0.11759983024298698, 0.45886582156554423, 0.23610944449777108, 0.19049695183539636, 0.43434016809961751, 0.14302403510341744, 0.68210928578140406, 0.58443391934144795, 0.24699076041790125, 0.36154746916770497, 0.25328408372732358, 0.095016596644832696, 0.17785070898331937, 0.056968041515980103, 0.76485673634625606, 0.12035785964213995, 0.17599123438232184, 0.33886002886001898, 0.71382569175736488, 0.41264361436697428, 0.076307336605426795, 0.28609826332663574, 0.27907698431270644, 0.29608205281741706, 0.52534310568619513, 0.074387339079293027, 0.18564653722415, 0.36958094738468389, 0.75257955561323442, 0.43652962374486187, 0.21608811596126926, 0.36705106158174045, 0.23730173239075952, 0.12792289323370737, 0.052645859280901486, 0.90599121625158807, 0.1268641034425553, 0.40871171026394704, 0.097866257267962303, 0.63210173882458287, 0.10170905891854606, 0.038536656586507685, 0.16893711577067927, 0.51140737760418831, 0.12140607846066546, 0.31555282557738601, 0.26024428949554573, 0.21180437575031544, 0.81271401501266327, 0.15452715435582975, 0.01162086226982512, 0.027421398698269834, 0.039440250000002848, 0.099604727154437078, 0.211798209943037, 0.017388025820391874, 0.064674302165354872, 0.52751498018177478, 0.15778244637301381, 0.11041710380976472, 0.36440598510223521, 0.081571170105274746, 0.24481711698134528, 0.064822557563107328, 0.27077387249448936, 0.5756232131072484, 0.25038629028725173, 0.19420034855887999, 0.15897064720546769, 0.31645825891865054, 0.23677869941990057, 0.63100115705436144, 0.21717490182963989, 0.2742041218211918, 0.19093914392861874, 0.089254110182868052, 0.013053092845107129, 0.043520697775165006, 0.33645580717341467, 0.082646618058647245, 0.39658326669894806, 0.44775213719881779, 0.87321655824833966, 0.84030832530829602, 0.079833904591088925, 0.078441625324877626, 0.11960939044114824, 0.53787563288602991, 0.10535676142277142, 0.26783718680810542, 0.40094680536064137, 0.24411117689863096, 0.34751289494840965, 0.23838765661233827, 0.2266071518393038, 0.4718842409568918, 0.48366752130331775, 0.11921806032488094, 0.03644796551357888, 0.1503287823976, 0.10329552967044663, 0.053962656410780602, 0.15697025754646021, 0.031737830462863915, 0.068809329050736959, 0.37615777907259962, 0.19343396122990261, 0.28285215175431755, 0.11436252685089937, 0.86120636965092567, 0.26128923629259709, 0.1275718181935464, 0.13307596755412923, 0.28280146472629225, 0.11686551305859121, 0.45756750618900371, 0.21372606008412878, 0.43287211488458427, 0.17468001096813382, 0.22699159518316797, 0.072221823886938152, 0.025716377888946644, 0.1779564987653004, 0.13122985506194007, 0.046652899495788783, 0.87620835661692154, 0.054762962153327002, 0.52211685631994109, 0.21820787676345277, 0.25923705661840113, 0.16258613267118535, 0.034912283245580739, 0.67770269189149912, 0.1913565985116682, 0.10943980871395009, 0.91562646355477018, 0.15372523885712291, 0.22168014002599781, 0.16748992510074681, 0.097168282354361424, 0.059535128843094497, 0.10880562889692065, 0.73583973190852081, 0.30531324809276916, 0.17053234231327899, 0.43161422966748397, 0.12444872641939826, 0.1832867097085305, 0.11988595226285409, 0.05594530846016163, 0.26752661699426927, 0.37331051856265868, 0.11034649886356981, 0.20341243908019069, 0.083214137000417118, 0.1086670650443379, 0.83939346365488599, 0.14181534797505932, 0.89623712891728979, 0.62940162410740419, 0.8196976083262778, 0.037061988307370307, 0.67160558270506998, 0.44133599550369856, 0.15540567837930233, 0.89184833369663363, 0.13242939686457136, 0.36567186012397801, 0.23530293242345293, 0.51805465556273878, 0.39305353471776516, 0.13980686967790412, 0.52297212164118534, 0.73479594857309338, 0.20854774485411959, 0.82531463433655117, 0.68610709274962645, 0.17864829811020885, 0.76320559324183823, 0.29220021214183833, 0.47337650651195629, 0.61005117613032867, 0.57454209267346334, 0.85062831748669798, 0.25018571747423668, 0.31574287093145559, 0.21398297029706401, 0.17460705418439945, 0.35390677569917139, 0.14213342466643641, 0.22999715599373791, 0.18075615344075427, 0.061901980478416718, 0.80297176534125136, 0.79900707347653288, 0.43604810480060918, 0.83533707196572604, 0.24919702544459679, 0.82847926211981493, 0.42167951691517475, 0.47279686939429733, 0.42255664879262178, 0.47418570874572491, 0.073333112666026684, 0.20731823500351521, 0.074334626919882046, 0.735401562128293, 0.12998838075948033, 0.3889924589568417, 0.3423493739860809, 0.12857198571829523, 0.32833497823627544, 0.29785301484722781, 0.097882253398983515, 0.36326117800923075, 0.88232220163841601, 0.78156846129465085, 0.3708813623390626, 0.037640400471922138, 0.50620663654598808, 0.24905036234528227, 0.37265209143534989, 0.075656787372852349, 0.11774544843627892, 0.38265778850604437, 0.24417717903783812, 0.34536763517642216, 0.7648750988639984, 0.68901885869774748, 0.31751861242190016, 0.37951959807838143, 0.47590824812648852, 0.34535791835573643, 0.1985157474019455, 0.38467799433815314, 0.24049000556412525, 0.56666718350837653, 0.43074591807457913, 0.78367007553710122, 0.58393834455487936, 0.35202084010419094, 0.060671274516178875, 0.055641316759358406, 0.1391670141816089, 0.67120765927828663, 0.72181486352019741, 0.48606381063809134, 0.19305652618293492, 0.59039629098877955, 0.074146282855399884, 0.50063517776876221, 0.45959923372328076, 0.13911604258839272, 0.089168968013807387, 0.1013636205910166, 0.13358575361030081, 0.93173374284787769, 0.65561825956858977, 0.65678413105715816, 0.95101128179689121, 0.077662157253896191, 0.96598453822185804, 0.044708435508585956, 0.12669213928493428, 0.099214920942094817, 6.8420992710931015e-15, 0.17281922531640381, 0.97469334021317866, 0.20241326488672143, 0.25643686701012186, 0.28072884365351364, 0.8176900982494022, 0.60335699664298315, 0.84832798798302256, 0.52379385789480415, 0.24107099732491666, 0.1664076732997484, 0.28779713899375209, 0.0012121009694203123, 0.29407263145262247, 0.3186383041277705, 0.4676633233667527, 0.55897845624110054, 0.20606663599798394, 0.1259106703642682, 0.53634181558326999, 0.60730315994105954, 0.69353754456492678, 0.17013684509269472, 0.51138025298904921, 0.41206227809285828, 0.35720204652687521, 0.20778148374145514, 0.18246764104049912, 0.95343933424656613, 0.033357621569517881, 0.71175742289576649, 0.15264913435218053, 0.58585535790002374, 0.3672785166959997, 0.67258789341789504, 0.17546257828638029, 0.16269297692106777, 6.7312081672246567e-15, 0.33869478170691458, 0.9776291804406092, 0.88917200098384019, 0.52150106957806286, 0.12264099528471312, 0.83970132336291481, 0.032180888792136937, 0.73534463791014371, 0.49739149999998472, 0.11756388806974417, 0.71913066957340965, 0.71420324826818793, 0.96694252547108317, 0.65609472636638611, 0.61209352276270468, 0.39782915861270646, 0.9041313395344216, 0.80067537904126929, 0.65448848976977303, 0.22227995163815856, 0.44603618115456606, 0.51378922307051234, 0.22216039012272523, 0.85358552236832586, 0.84637165291963834, 0.31155424297636564, 0.57773248808873157, 0.77877724244548707, 0.99214852047037039, 0.96804859877009242, 0.89187964018557364, 0.75621305621302903, 0.025113177179066901, 0.33685963140367758, 0.83164853527194027, 0.94376164679736285, 0.69176587003955725, 0.093118626900057996, 0.76675399302879477, 0.80890858218280615, 0.75369164229103036, 6.7084673683093113e-15, 0.47621109645467607, 0.80085031496847381, 0.21701450150694523, 0.33989317555486265, 0.29255683511366365, 0.96755258516212761, 0.37881002966240618, 0.15140111169754189, 0.46603025648408958, 0.43550679899897543, 0.69286251480139671, 0.41369975561935263, 0.74502073319288464, 0.98243743230684311, 0.32632905316211835, 0.57330891352867264, 0.64285169323314473, 0.61815988425282675, 0.56892704180252163, 0.14028225491222412, 0.73907921263367471, 0.69376782478607812, 0.52021068716334717, 0.609945623697568, 0.3260686530116616, 0.10023455648165402, 0.42447694267718511, 0.19213142756687751, 0.99614796518368176, 0.25406474187051115, 0.14351945638579075, 0.15066499505014716, 0.80113108970413693, 0.36318005227978001, 0.91798103722249125, 0.45697486277375138, 0.41546919999998877, 0.41734192480065024, 0.43028240282401642, 0.5046052973721008, 0.65678327538394943, 0.33920940363255875, 0.60163465288122031, 0.84471074442145755, 0.85891710294237966, 0.86214143295822832, 0.49508155081549232, 0.34777915800744302, 0.26722001949950713, 0.31562881550671157, 0.56015973709185063, 0.0087003730399047158, 0.75170192851897522, 0.9413019634901465, 0.78103031775694343, 0.95333283667606639, 0.15081727067463105, 0.38951499229624925, 0.37021683195147742, 0.55617475828150964, 0.54578962840896639, 0.20267655756853983, 0.26598519145207838, 0.87102971909794513, 0.21885287788057745, 0.46508243472416316, 0.39136220315744252, 0.61989286449967018, 0.15585531690644211, 0.63598889258867108, 0.18363533710640645, 0.89664722647223061, 0.10591231618474214, 0.70805042919418193, 0.51820242601211319, 0.42418318470266281, 0.3457521720347434, 0.27538065824793273, 0.65069475349599659, 0.21650058900353017, 0.35005551033305266, 0.20539883521397498, 0.20463612447391413, 0.3100236399054323, 0.77183643873700758, 0.65455625982564525, 0.18424527033006602, 0.22435039043279226, 0.40620814999998883, 0.09861271359540541, 0.25733309201013027, 0.70818242448055557, 0.69073854262641998, 0.61125023126501166, 0.49435989619531379, 0.15170553255144892, 0.61687855826375126, 0.16032903910445448, 0.36498784581432131, 0.58378934894672696, 0.24615609537561342, 0.38461152300740364, 0.16691609047579814, 0.50613916298766748, 0.89476857573681579, 0.60863996748727389, 0.34529355116456539, 0.79391915337436347, 0.51291218292495944, 0.69114797344389589, 0.066714706354409764, 0.56393749999998144, 0.22973061622862229, 0.13918992106746628, 0.49808901719882936, 0.11710106376329711, 0.15811781705457262, 0.28665779296950578, 0.43926405662347728, 0.29554657016201086, 0.15327710010372536, 0.14694326121775084, 0.083726028315039308, 0.15043169583075353, 0.73602190594960293, 0.52427982084392555, 0.056142489029531194, 0.10170526177891262, 0.023582428351437968, 0.56875220736312504, 0.16771298818437697, 0.76203995843847883, 0.22914643586376085, 0.16541232876301187, 0.19522823275950008, 0.19647506285798008, 0.40014000364008306, 0.7801182037824923, 0.74257913776731965, 0.40960171287364228, 0.80999780021554901, 0.37561498743279598, 0.47592977241837947, 0.50588579708636083, 0.13802371338339842, 0.20640715706480833, 0.85115871945978305, 0.096499004354082638, 0.34844044655955009, 0.094665178829341584, 0.16222914817304829, 0.064465834595942725, 0.99892719358066029, 0.17991255903814732, 0.18004693675246528, 0.39178985089491425, 0.25902798472312583, 0.25380423434918292, 0.474774623196971, 0.1678314683046761, 0.19257988533131576, 0.24297706643530323, 0.074584674435938858, 0.38266417812013365, 0.14331410927105656, 0.26786742896229487, 0.44133733854092988, 0.22166454839899707, 0.22279573249450568, 0.44874473117095426, 0.094317493295247398, 0.13508745087603666, 0.55651507018209256, 0.19363933119991528, 0.19502966301909991, 0.63883949437059662, 0.05737639761132754, 0.72769967667702029, 0.35923727050708998, 0.54194830312113684, 0.25252615555753516, 0.16932268637444403, 0.12461247096794671, 0.43406140597978715, 0.18123703989631718, 0.065559132731275199, 0.4080647316106929, 0.48135667277914129, 0.59004265718460713, 0.35250039107387737, 0.47820510879472633, 0.39746853934698512, 0.27245374277711487, 0.57527264618293472, 0.13772794258012183, 0.31125145375435376, 0.096311946934292472, 0.31736224236223431, 0.21742830866047438, 0.28415330057064059, 0.12201360974419798, 0.26457195822395652, 0.46654641819625869, 0.18898328873402048, 0.4985691850161324, 0.078023064956762284, 0.42208763837904639, 0.79525871030037443, 0.60687690144392681, 0.49899294408447342, 0.15885166488031857, 0.20482446968401605, 0.35644476029746996, 0.11309257056456096, 0.051761240020207051, 0.069273863435682717, 0.094076341215337519, 0.9540819334600259, 0.64438997097490691, 0.29232730408063762, 0.53417897747697241, 0.65662061047782705, 0.56831570494709682, 0.22795440949610604, 0.50798122131453438, 0.27329708478020515, 0.77968155856698851, 0.8705900367088294, 0.23206454683910843, 0.057749263499050268, 0.57089426309018054, 0.709459076352286, 0.20013711218007815, 0.37308475680265951, 0.41586916947709801, 0.11839774177941916, 0.65527123320723257, 0.94123157671367774, 0.1396275898937826, 0.1700033100264782, 0.85871865183773011, 0.60161251311176334, 0.12651696597704654, 0.21324102922971708, 0.36205854067128429, 0.52898044134000544, 0.18071265916302234, 0.31099714656974464, 0.11967441497691228, 0.054986504858391634, 0.22881724193621272, 0.24005985503632701, 0.08600240234742812, 0.26475861892411179, 0.24248693583175268, 0.49235215030425389, 0.55100853106207959, 0.11286453106306454, 0.40656274918783625, 0.29374252676364121, 0.93931967084408607, 0.17112963765735109, 0.070317496111237401, 0.064307366506520011, 0.091996037984152998, 0.34535736499688074, 0.51141823163535116, 0.29666809633918806, 0.18826646959881457, 0.44661847313894953, 0.32154996800476349, 0.22070349229230707, 0.12959496255104996, 0.41608060517580653, 0.24017266039961579, 0.14736813970724622, 0.13519836877949612, 0.22852547493306949, 0.10631939193004, 0.30967361390482756, 0.61354708149912651, 0.085110825200772927, 0.3635682687181328, 0.047073262658611899, 0.078183761286328604, 0.071817367717097125, 0.21355688811976767, 1.001040622363897, 0.31538236930081726, 0.33827250994715885, 0.14803310149076399, 0.17911558198784222, 0.21097307378885266, 0.033067275932727402, 0.2010471039733373, 0.012495124233914032, 0.17362444240232039, 0.46574024166216077, 0.29539484170911151, 0.44512044042325127, 0.40047191222251449, 0.31072491587901352, 0.020069421319010159, 0.10461052694736621, 0.26319059127582212, 0.34868799552550905, 0.56922383249526853, 0.11542730492783718, 0.22283405588487754, 0.616677104188323, 0.40404309445569797, 0.27371231831353565, 0.095379409682937247, 0.0036469963530095153, 0.25539984378484221, 0.2949646895501401, 0.055369783159013072, 0.17615062535567846, 0.1898634831092085, 0.88830346142765837, 0.62501722543061433, 0.71821079973777657, 0.39529313698164908, 0.24643895266713112, 0.23719479895833706, 0.24832312012255253, 0.089599868354851578, 0.27467626884910168, 0.16941010674149287, 0.11457723205526668, 0.26252570567675587, 0.19092405901210252, 0.47969971068486505, 0.056227620505089775, 0.25719132607168843, 0.15328750000625055, 0.18866379210343406, 0.40971526758761612, 0.18629376456018257, 0.42266431380500885, 0.22836890294206247, 0.037834385681547532, 0.49786167826377953, 0.10637547359469421, 0.098073287283695812, 0.29812204356810884, 0.54987306258950619, 0.10651192927463936, 0.11324116830108474, 0.53238961679901708, 0.099733736272308873, 0.16584395384550552, 0.13328873026761676, 0.064593756940670766, 0.23709199973319375, 0.17676771363622754, 0.26523284899131511, 0.28231545710370809, 0.13233621681579877, 0.27068743259397993, 0.1510538693441576, 0.3099127614950114, 0.079532023741416311, 0.085082493402838272, 0.3684276991938526, 0.17907720067611482, 0.19636154454231192, 0.33076491005054254, 0.54718608625563836, 0.52569110403243846, 0.11145852646316241, 0.9090493548017099, 0.15059511268116568, 0.45096931263842582, 0.32315807779316219, 0.19080219681805072, 0.7577983088083049, 0.31454773762813559, 0.2375286300572553, 0.13698317946391636, 0.4256612432273556, 0.60104126596094565, 0.22796206938412583, 0.42967320379085988, 0.71310843798812229, 0.1712740337834463, 0.45351266292844888, 0.37250368707078207, 0.18378036189017696, 0.13028278184583061, 0.087170145668373569, 0.49705470409562313, 0.37344752383321955, 0.34494077872419088, 0.09234390170980171, 0.81595996484070854, 0.59046998662244621, 0.91210199121899971, 0.54402365496983651, 0.89934631823369438, 0.13183926426629219, 0.99566254534104326, 0.85365930022096226, 0.94888677115131204, 0.39884643154289379, 0.84491849543571351, 0.067694322388646852, 0.81376844317823183, 0.58330575979471144, 0.39816005519833331, 0.97475539412942125, 0.86020713668578197, 0.49305124864124422, 0.11394079275664813, 0.32711781348539271, 0.16638576230302402, 0.87416864592632615, 0.44539693428962146, 0.47556794886408793, 0.58410447022398704, 0.22175698715916325, 0.73685470926549468, 0.071495731837812812, 0.23110122962856305, 0.00065274011232381124, 0.46488042522585094, 0.33804825833351732, 0.16254621108825867, 0.28752116221243301, 0.46142054066938881, 0.20301972513352837, 0.043893681910680001, 0.12056642697389182, 0.032652742678910232, 0.49630950997600687, 0.36716837741313624, 0.051308009192776831, 0.53420816635707213, 0.78110744537224064, 0.66394193553868708, 0.30853997190139421, 0.14039695891132237, 0.69029265132014694, 0.89435685273804255, 0.015219889963525367, 0.052525522849541498, 0.47527180328939517, 0.22856555432389125, 0.32699187595139534, 0.2097110734590133, 0.097921467006537352, 0.86000370502960888, 0.58094751704116987, 0.15694917108463999, 0.35641474903242415, 0.10479841476473631, 0.29531778395334313, 0.43440338122605554, 0.56905424554952233, 0.18764122084045634, 0.35279988031676968, 0.4760815605868694, 0.074736431573611595, 0.52268739537477515, 0.28609552227521656, 0.16996772148651226, 0.3575205234977395, 0.13223371756989727, 0.60179664193469373, 0.79344574325537631, 0.48759367785116758, 0.16710014411023161, 0.18762146629245882, 0.46499161490775015, 0.8111539219303987, 0.85245559349484779, 0.53259402057858174, 0.24633752628909494, 0.70067701376811242, 0.39197625946604309, 0.63954301405916114, 0.68256031762697578, 0.61322551679242243, 0.19053978880355149, 0.21791575749382766, 0.4446794242430343, 0.15539951535105093, 0.33333555000265025, 0.66312866479474986, 0.40767984575505367, 0.096521986320103545, 0.92553794673882284, 0.84547588752357994, 0.096968908611293397, 0.11234247840443758, 0.47486574510738938, 0.035824165110023627, 0.29415029637044426, 0.013420193925048781, 7.5739839218255884e-15, 0.62576086804338116, 0.31930412101543187, 0.49091682797174829, 0.89840269069772039, 7.5750895669138403e-15, 0.88620038601154816, 0.82023800237414457, 0.929299537898579, 0.13226799779212881, 0.21059576675724717, 0.27122039438057882, 0.41634823842817342, 0.28092717476735413, 0.17137556063340928, 0.69859509182204682, 0.75820351372774986, 0.12368972125792468, 0.47177810282217564, 0.26033372507074837, 0.39065156515650601, 7.6199482236341637e-15]\n"
     ]
    }
   ],
   "source": [
    "print testPIT"
   ]
  },
  {
   "cell_type": "code",
   "execution_count": 10,
   "metadata": {
    "collapsed": true
   },
   "outputs": [],
   "source": [
    "outfp = open(\"testpitstuff.out\",\"w\")\n",
    "for i in range(len(testPIT)):\n",
    "    outfp.write(\"%5.5f\\n\"%(testPIT[i]))\n",
    "outfp.close()"
   ]
  },
  {
   "cell_type": "code",
   "execution_count": 11,
   "metadata": {
    "collapsed": false
   },
   "outputs": [],
   "source": [
    "ks_stat,ks_pval = testme.KS(using='gridded',dx=0.0001)"
   ]
  },
  {
   "cell_type": "code",
   "execution_count": 12,
   "metadata": {
    "collapsed": false
   },
   "outputs": [
    {
     "name": "stdout",
     "output_type": "stream",
     "text": [
      "0.125235094748\n",
      "8.70871591413e-28\n"
     ]
    }
   ],
   "source": [
    "print ks_stat\n",
    "print ks_pval"
   ]
  },
  {
   "cell_type": "code",
   "execution_count": 13,
   "metadata": {
    "collapsed": true
   },
   "outputs": [],
   "source": [
    "cvm_stat,cvm_pval=testme.CvM(using='gridded',dx=0.0001)"
   ]
  },
  {
   "cell_type": "code",
   "execution_count": 14,
   "metadata": {
    "collapsed": false
   },
   "outputs": [
    {
     "name": "stdout",
     "output_type": "stream",
     "text": [
      "13.2286080787\n",
      "1.99323890726e-10\n"
     ]
    }
   ],
   "source": [
    "print cvm_stat\n",
    "print cvm_pval"
   ]
  },
  {
   "cell_type": "code",
   "execution_count": 15,
   "metadata": {
    "collapsed": true
   },
   "outputs": [],
   "source": [
    "ad_stat,ad_pval=testme.AD(using='gridded',dx=0.0001)"
   ]
  },
  {
   "cell_type": "code",
   "execution_count": 16,
   "metadata": {
    "collapsed": false
   },
   "outputs": [
    {
     "name": "stdout",
     "output_type": "stream",
     "text": [
      "69.9528756536\n",
      "3.06278713502e-07\n"
     ]
    }
   ],
   "source": [
    "print ad_stat\n",
    "print ad_pval"
   ]
  },
  {
   "cell_type": "markdown",
   "metadata": {
    "collapsed": true
   },
   "source": [
    "Now try the stacked and individual KL Divergence in Alex Malz' code"
   ]
  },
  {
   "cell_type": "code",
   "execution_count": 17,
   "metadata": {
    "collapsed": true
   },
   "outputs": [],
   "source": [
    "sumpdf = approx_pdf.stack(loc=z_array,using='gridded',vb=True)"
   ]
  },
  {
   "cell_type": "code",
   "execution_count": 18,
   "metadata": {
    "collapsed": false
   },
   "outputs": [
    {
     "name": "stdout",
     "output_type": "stream",
     "text": [
      "<qp.pdf.PDF object at 0x110b45510>\n"
     ]
    }
   ],
   "source": [
    "nz = qp.PDF(gridded=(sumpdf['gridded'][0],sumpdf['gridded'][1]))\n",
    "print nz"
   ]
  },
  {
   "cell_type": "code",
   "execution_count": 19,
   "metadata": {
    "collapsed": true
   },
   "outputs": [],
   "source": [
    "true_pdf = qp.PDF(samples=z_trues)"
   ]
  },
  {
   "cell_type": "code",
   "execution_count": 20,
   "metadata": {
    "collapsed": false
   },
   "outputs": [
    {
     "name": "stdout",
     "output_type": "stream",
     "text": [
      "<qp.pdf.PDF object at 0x103dfabd0>\n"
     ]
    }
   ],
   "source": [
    "print true_pdf"
   ]
  },
  {
   "cell_type": "code",
   "execution_count": 21,
   "metadata": {
    "collapsed": false
   },
   "outputs": [
    {
     "name": "stdout",
     "output_type": "stream",
     "text": [
      "Created a KDE interpolator for the samples parametrization.\n",
      "interpolating between 0.02 and 2.1 using samples\n",
      "almost normalized integrals\n",
      "Created a `linear` interpolator for the gridded parametrization.\n",
      "interpolating between 0.02 and 2.1 using gridded\n",
      "almost normalized integrals\n"
     ]
    }
   ],
   "source": [
    "finkld = qp.utils.calculate_kl_divergence(true_pdf,nz,limits=(0.02,2.11),dx=0.01,vb=True)"
   ]
  },
  {
   "cell_type": "code",
   "execution_count": 22,
   "metadata": {
    "collapsed": false
   },
   "outputs": [
    {
     "name": "stdout",
     "output_type": "stream",
     "text": [
      "0.306255652276\n"
     ]
    }
   ],
   "source": [
    "print finkld"
   ]
  },
  {
   "cell_type": "code",
   "execution_count": 23,
   "metadata": {
    "collapsed": false
   },
   "outputs": [
    {
     "name": "stdout",
     "output_type": "stream",
     "text": [
      "Created a KDE interpolator for the samples parametrization.\n",
      "interpolating between 0.02 and 2.07 using samples\n",
      "almost normalized integrals\n",
      "Created a `linear` interpolator for the gridded parametrization.\n",
      "interpolating between 0.02 and 2.07 using gridded\n",
      "almost normalized integrals\n"
     ]
    }
   ],
   "source": [
    "finkldx = qp.utils.calculate_kl_divergence(true_pdf,nz,limits=(0.02,2.11),dx=0.05,vb=True)"
   ]
  },
  {
   "cell_type": "code",
   "execution_count": 24,
   "metadata": {
    "collapsed": false
   },
   "outputs": [
    {
     "name": "stdout",
     "output_type": "stream",
     "text": [
      "0.284321285926\n"
     ]
    }
   ],
   "source": [
    "print finkldx"
   ]
  },
  {
   "cell_type": "markdown",
   "metadata": {},
   "source": [
    "slight difference with a coarser grid, as expected"
   ]
  },
  {
   "cell_type": "code",
   "execution_count": 25,
   "metadata": {
    "collapsed": false
   },
   "outputs": [
    {
     "name": "stdout",
     "output_type": "stream",
     "text": [
      "Created a KDE interpolator for the samples parametrization.\n",
      "interpolating between 0.02 and 2.11 using samples\n",
      "Created a `linear` interpolator for the gridded parametrization.\n",
      "interpolating between 0.02 and 2.11 using gridded\n"
     ]
    }
   ],
   "source": [
    "finrmse = qp.utils.calculate_rmse(true_pdf,nz,limits=(0.02,2.11),dx=0.01,vb=True)"
   ]
  },
  {
   "cell_type": "code",
   "execution_count": 26,
   "metadata": {
    "collapsed": false
   },
   "outputs": [
    {
     "name": "stdout",
     "output_type": "stream",
     "text": [
      "0.661644017931\n"
     ]
    }
   ],
   "source": [
    "print finrmse"
   ]
  },
  {
   "cell_type": "code",
   "execution_count": 27,
   "metadata": {
    "collapsed": false
   },
   "outputs": [
    {
     "name": "stdout",
     "output_type": "stream",
     "text": [
      "1.00124603725\n"
     ]
    }
   ],
   "source": [
    "print testPIT[19]"
   ]
  },
  {
   "cell_type": "markdown",
   "metadata": {
    "collapsed": true
   },
   "source": [
    "# Test N(z) metrics with new class"
   ]
  },
  {
   "cell_type": "code",
   "execution_count": 28,
   "metadata": {
    "collapsed": false
   },
   "outputs": [],
   "source": [
    "xarray = np.arange(0.0,2.12,0.005)\n",
    "nzobj = inmet.NzSumEvaluateMetric(approx_pdf,z_trues,eval_grid=xarray,using='gridded',dx=0.0001)"
   ]
  },
  {
   "cell_type": "code",
   "execution_count": 29,
   "metadata": {
    "collapsed": false
   },
   "outputs": [],
   "source": [
    "ks_stat,ks_pval = nzobj.NZKS()"
   ]
  },
  {
   "cell_type": "code",
   "execution_count": 30,
   "metadata": {
    "collapsed": false
   },
   "outputs": [
    {
     "name": "stdout",
     "output_type": "stream",
     "text": [
      "0.249733729916\n",
      "2.50311438502e-110\n"
     ]
    }
   ],
   "source": [
    "print ks_stat\n",
    "print ks_pval"
   ]
  },
  {
   "cell_type": "code",
   "execution_count": 31,
   "metadata": {
    "collapsed": true
   },
   "outputs": [],
   "source": [
    "cvm_stat,cvm_pval = nzobj.NZCVM()"
   ]
  },
  {
   "cell_type": "code",
   "execution_count": 32,
   "metadata": {
    "collapsed": false
   },
   "outputs": [
    {
     "name": "stdout",
     "output_type": "stream",
     "text": [
      "19.8443562307\n",
      "1.24467229856e-07\n"
     ]
    }
   ],
   "source": [
    "print cvm_stat\n",
    "print cvm_pval"
   ]
  },
  {
   "cell_type": "code",
   "execution_count": 33,
   "metadata": {
    "collapsed": true
   },
   "outputs": [],
   "source": [
    "ad_stat,ad_pval = nzobj.NZAD()"
   ]
  },
  {
   "cell_type": "code",
   "execution_count": 34,
   "metadata": {
    "collapsed": false
   },
   "outputs": [
    {
     "name": "stdout",
     "output_type": "stream",
     "text": [
      "126.212439628\n",
      "3.00150074906e-07\n"
     ]
    }
   ],
   "source": [
    "print ad_stat\n",
    "print ad_pval"
   ]
  },
  {
   "cell_type": "code",
   "execution_count": 35,
   "metadata": {
    "collapsed": false
   },
   "outputs": [],
   "source": [
    "xarray = np.arange(0.0,2.12,0.005)\n",
    "tmpnzpdf = inmet.QPPDFCDF(nz)\n",
    "tmppdf = tmpnzpdf.pdf(xarray)"
   ]
  },
  {
   "cell_type": "code",
   "execution_count": 36,
   "metadata": {
    "collapsed": false
   },
   "outputs": [
    {
     "name": "stdout",
     "output_type": "stream",
     "text": [
      "Created a KDE interpolator for the samples parametrization.\n",
      "interpolating between 0.038 and 0.358 using samples\n",
      "Plotted samples\n"
     ]
    },
    {
     "data": {
      "image/png": "[encoded data removed]",
      "text/plain": [
       "<matplotlib.figure.Figure at 0x10ebdcb10>"
      ]
     },
     "metadata": {},
     "output_type": "display_data"
    }
   ],
   "source": [
    "true_pdf.plot()"
   ]
  },
  {
   "cell_type": "code",
   "execution_count": 37,
   "metadata": {
    "collapsed": false
   },
   "outputs": [
    {
     "name": "stdout",
     "output_type": "stream",
     "text": [
      "Created a KDE interpolator for the samples parametrization.\n",
      "interpolating between 0.0 and 2.115 using samples\n"
     ]
    }
   ],
   "source": [
    "tmpjjj = true_pdf.evaluate(xarray)\n",
    "truegridpdf = qp.PDF(gridded=(tmpjjj[0],tmpjjj[1]))\n",
    "otherobj = inmet.QPPDFCDF(truegridpdf)"
   ]
  },
  {
   "cell_type": "code",
   "execution_count": 38,
   "metadata": {
    "collapsed": false
   },
   "outputs": [],
   "source": [
    "xpdf = otherobj.pdf(xarray)\n"
   ]
  },
  {
   "cell_type": "code",
   "execution_count": 41,
   "metadata": {
    "collapsed": false
   },
   "outputs": [
    {
     "data": {
      "text/plain": [
       "<matplotlib.legend.Legend at 0x11415ee10>"
      ]
     },
     "execution_count": 41,
     "metadata": {},
     "output_type": "execute_result"
    },
    {
     "data": {
      "image/png": "[encoded data removed]",
      "text/plain": [
       "<matplotlib.figure.Figure at 0x103dd94d0>"
      ]
     },
     "metadata": {},
     "output_type": "display_data"
    }
   ],
   "source": [
    "fig = plt.figure(figsize=(10,10))\n",
    "plt.plot(xarray,tmppdf,lw=5,c='b',label='sum p(z)')\n",
    "plt.plot(xarray,xpdf,lw=3,c='r',label='true N(z)')\n",
    "plt.legend()"
   ]
  },
  {
   "cell_type": "code",
   "execution_count": null,
   "metadata": {
    "collapsed": true
   },
   "outputs": [],
   "source": []
  },
  {
   "cell_type": "code",
   "execution_count": null,
   "metadata": {
    "collapsed": true
   },
   "outputs": [],
   "source": []
  }
 ],
 "metadata": {
  "kernelspec": {
   "display_name": "Python 2",
   "language": "python",
   "name": "python2"
  },
  "language_info": {
   "codemirror_mode": {
    "name": "ipython",
    "version": 2
   },
   "file_extension": ".py",
   "mimetype": "text/x-python",
   "name": "python",
   "nbconvert_exporter": "python",
   "pygments_lexer": "ipython2",
   "version": "2.7.11"
  }
 },
 "nbformat": 4,
 "nbformat_minor": 0
}
