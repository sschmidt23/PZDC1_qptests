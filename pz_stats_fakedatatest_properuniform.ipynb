{
 "cells": [
  {
   "cell_type": "code",
   "execution_count": 1,
   "metadata": {
    "collapsed": false
   },
   "outputs": [],
   "source": [
    "import numpy as np\n",
    "import matplotlib.pyplot as plt\n",
    "import scipy.stats as ss\n",
    "import qp\n",
    "import individual_metrics as inmet\n",
    "import skgof\n",
    "%matplotlib inline"
   ]
  },
  {
   "cell_type": "code",
   "execution_count": 2,
   "metadata": {
    "collapsed": false
   },
   "outputs": [],
   "source": [
    "func1 = ss.norm(loc=3.0,scale=0.5)\n",
    "x = np.arange(0.5,10.0,0.02)\n",
    "y1 = func1.pdf(x)*20000./0.25*0.1\n",
    "func2= ss.norm(loc=5.0,scale=0.35)\n",
    "y2 = func2.pdf(x)*40000./0.35*0.1\n"
   ]
  },
  {
   "cell_type": "code",
   "execution_count": 3,
   "metadata": {
    "collapsed": false
   },
   "outputs": [
    {
     "data": {
      "text/plain": [
       "[<matplotlib.lines.Line2D at 0x10eb48ad0>]"
      ]
     },
     "execution_count": 3,
     "metadata": {},
     "output_type": "execute_result"
    },
    {
     "data": {
      "image/png": "[encoded data removed]",
      "text/plain": [
       "<matplotlib.figure.Figure at 0x103e43950>"
      ]
     },
     "metadata": {},
     "output_type": "display_data"
    }
   ],
   "source": [
    "samples1 = np.array(func1.rvs(size=20000))\n",
    "samples2 = np.array(func2.rvs(size=40000))\n",
    "plt.hist(samples1, normed=False, histtype='stepfilled', alpha=0.2)\n",
    "plt.hist(samples2, normed=False, histtype='stepfilled', alpha=0.2)\n",
    "plt.plot(x,y1,lw=2,c='r')\n",
    "plt.plot(x,y2,lw=2,c='b')"
   ]
  },
  {
   "cell_type": "code",
   "execution_count": 4,
   "metadata": {
    "collapsed": false
   },
   "outputs": [
    {
     "name": "stdout",
     "output_type": "stream",
     "text": [
      "60000\n"
     ]
    }
   ],
   "source": [
    "bigsample = np.append(samples1,samples2)\n",
    "print len(bigsample)"
   ]
  },
  {
   "cell_type": "code",
   "execution_count": 5,
   "metadata": {
    "collapsed": false
   },
   "outputs": [
    {
     "name": "stdout",
     "output_type": "stream",
     "text": [
      "made the pool of 4 in 0.0623679161072\n",
      "made the catalog in 122.718238115\n"
     ]
    }
   ],
   "source": [
    "smallgrid=np.zeros([60000,len(y1)])\n",
    "for i in range(20000):\n",
    "    smallgrid[i,:] = y1\n",
    "for i in range(20000,60000):\n",
    "    smallgrid[i,:] = y2\n",
    "approx_pdf = qp.Ensemble(smallgrid.shape[0],gridded=(x,smallgrid))"
   ]
  },
  {
   "cell_type": "code",
   "execution_count": 6,
   "metadata": {
    "collapsed": true
   },
   "outputs": [],
   "source": [
    "testme = inmet.EvaluateMetric(approx_pdf,bigsample)"
   ]
  },
  {
   "cell_type": "code",
   "execution_count": 7,
   "metadata": {
    "collapsed": true
   },
   "outputs": [],
   "source": [
    "testPIT = testme.PIT()"
   ]
  },
  {
   "cell_type": "code",
   "execution_count": 8,
   "metadata": {
    "collapsed": false
   },
   "outputs": [],
   "source": [
    "ks_stat,ks_pval = testme.KS(using='gridded',dx=0.0001)"
   ]
  },
  {
   "cell_type": "code",
   "execution_count": 9,
   "metadata": {
    "collapsed": false
   },
   "outputs": [
    {
     "name": "stdout",
     "output_type": "stream",
     "text": [
      "0.00265728452701\n",
      "0.78956502173\n"
     ]
    }
   ],
   "source": [
    "print ks_stat\n",
    "print ks_pval"
   ]
  },
  {
   "cell_type": "code",
   "execution_count": 10,
   "metadata": {
    "collapsed": false
   },
   "outputs": [
    {
     "name": "stdout",
     "output_type": "stream",
     "text": [
      "0.0513794073338\n",
      "0.867859453451\n"
     ]
    }
   ],
   "source": [
    "cvm_stat,cvm_pval = testme.CvM(using='gridded',dx=0.0001)\n",
    "print cvm_stat\n",
    "print cvm_pval"
   ]
  },
  {
   "cell_type": "code",
   "execution_count": 11,
   "metadata": {
    "collapsed": false
   },
   "outputs": [
    {
     "name": "stdout",
     "output_type": "stream",
     "text": [
      "now with proper uniform range\n",
      "0.36740855471\n",
      "0.88034108617\n"
     ]
    }
   ],
   "source": [
    "ad_stat,ad_pval = testme.AD(using='gridded',dx=0.0001, vmin=0.01,vmax=0.99)\n",
    "print ad_stat\n",
    "print ad_pval"
   ]
  },
  {
   "cell_type": "markdown",
   "metadata": {},
   "source": [
    "change vmin,vmax, see effect"
   ]
  },
  {
   "cell_type": "code",
   "execution_count": 12,
   "metadata": {
    "collapsed": false
   },
   "outputs": [
    {
     "name": "stdout",
     "output_type": "stream",
     "text": [
      "now with proper uniform range\n",
      "0.353218731994\n",
      "0.893515473165\n"
     ]
    }
   ],
   "source": [
    "ad_stat,ad_pval = testme.AD(using='gridded',dx=0.0001, vmin=0.005,vmax=0.995)\n",
    "print ad_stat\n",
    "print ad_pval"
   ]
  },
  {
   "cell_type": "code",
   "execution_count": 13,
   "metadata": {
    "collapsed": false
   },
   "outputs": [
    {
     "name": "stdout",
     "output_type": "stream",
     "text": [
      "now with proper uniform range\n",
      "0.331464031915\n",
      "0.912790359342\n"
     ]
    }
   ],
   "source": [
    "ad_stat,ad_pval = testme.AD(using='gridded',dx=0.0001, vmin=0.001,vmax=0.999)\n",
    "print ad_stat\n",
    "print ad_pval"
   ]
  },
  {
   "cell_type": "code",
   "execution_count": 14,
   "metadata": {
    "collapsed": false
   },
   "outputs": [
    {
     "name": "stdout",
     "output_type": "stream",
     "text": [
      "now with proper uniform range\n",
      "0.323428609292\n",
      "0.919578277939\n"
     ]
    }
   ],
   "source": [
    "ad_stat,ad_pval = testme.AD(using='gridded',dx=0.0001, vmin=0.0001,vmax=0.9999)\n",
    "print ad_stat\n",
    "print ad_pval"
   ]
  },
  {
   "cell_type": "code",
   "execution_count": 18,
   "metadata": {
    "collapsed": false
   },
   "outputs": [
    {
     "name": "stdout",
     "output_type": "stream",
     "text": [
      "now with proper uniform range\n",
      "0.322971105248\n",
      "0.919958810636\n"
     ]
    }
   ],
   "source": [
    "ad_stat,ad_pval = testme.AD(using='gridded',dx=0.0001, vmin=0.000,vmax=1.0)\n",
    "print ad_stat\n",
    "print ad_pval"
   ]
  },
  {
   "cell_type": "code",
   "execution_count": 16,
   "metadata": {
    "collapsed": false
   },
   "outputs": [
    {
     "data": {
      "image/png": "[encoded data removed]",
      "text/plain": [
       "<matplotlib.figure.Figure at 0x1110eba50>"
      ]
     },
     "metadata": {},
     "output_type": "display_data"
    }
   ],
   "source": [
    "qqplot = testme.QQplot(using='gridded',dx=0.0001,Nquants=101)"
   ]
  },
  {
   "cell_type": "code",
   "execution_count": null,
   "metadata": {
    "collapsed": false
   },
   "outputs": [],
   "source": []
  }
 ],
 "metadata": {
  "kernelspec": {
   "display_name": "Python 2",
   "language": "python",
   "name": "python2"
  },
  "language_info": {
   "codemirror_mode": {
    "name": "ipython",
    "version": 2
   },
   "file_extension": ".py",
   "mimetype": "text/x-python",
   "name": "python",
   "nbconvert_exporter": "python",
   "pygments_lexer": "ipython2",
   "version": "2.7.11"
  }
 },
 "nbformat": 4,
 "nbformat_minor": 0
}
