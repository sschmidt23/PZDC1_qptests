{
 "cells": [
  {
   "cell_type": "code",
   "execution_count": 1,
   "metadata": {
    "collapsed": true
   },
   "outputs": [],
   "source": [
    "import numpy as np\n",
    "import matplotlib.pyplot as plt\n",
    "import scipy.stats as ss\n",
    "import qp\n",
    "%matplotlib inline"
   ]
  },
  {
   "cell_type": "code",
   "execution_count": 2,
   "metadata": {
    "collapsed": false
   },
   "outputs": [
    {
     "name": "stdout",
     "output_type": "stream",
     "text": [
      "111171\n"
     ]
    }
   ],
   "source": [
    "infile = \"/Users/samschmidt/PZPAPER/mystuff/test_magscat_trainingfile_probs.out\"\n",
    "szfile = \"/Users/samschmidt/PZPAPER/mystuff/train_justsz.out\"\n",
    "#infile = \"/Users/samschmidt/PZPAPER/mystuff/test_magscat_trainingfile_probs_top2000.out\"\n",
    "#szfile = \"/Users/samschmidt/PZPAPER/mystuff/train_justsz_top2000.out\"\n",
    "z_array = np.arange(0.0050,2.1100,0.0100) #this is the grid output by BPZ for my runs\n",
    "z_trues = np.loadtxt(szfile,skiprows=1)\n",
    "alldata = np.loadtxt(infile,skiprows=1)\n",
    "ID = alldata[:,0]\n",
    "pzs = alldata[:,1:]\n",
    "ngals = len(ID)\n",
    "print ngals"
   ]
  },
  {
   "cell_type": "code",
   "execution_count": 3,
   "metadata": {
    "collapsed": true
   },
   "outputs": [],
   "source": [
    "approx_pdf = qp.Ensemble(pzs.shape[0],gridded=(z_array,pzs))"
   ]
  },
  {
   "cell_type": "markdown",
   "metadata": {},
   "source": [
    "Ensemble has an integrate function that takes a ndarray of limits for each, or a tuple if the same for all\n",
    "for PIT, need the ndarray to be 0.0 to zspec for each galaxy"
   ]
  },
  {
   "cell_type": "code",
   "execution_count": 4,
   "metadata": {
    "collapsed": false
   },
   "outputs": [
    {
     "name": "stdout",
     "output_type": "stream",
     "text": [
      "[[ 0.     0.038]\n",
      " [ 0.     0.058]\n",
      " [ 0.     0.064]\n",
      " ..., \n",
      " [ 0.     1.895]\n",
      " [ 0.     1.891]\n",
      " [ 0.     1.97 ]]\n"
     ]
    }
   ],
   "source": [
    "alllimits = np.zeros([ngals,2])\n",
    "for i in range(ngals):\n",
    "    alllimits[i,1] = z_trues[i]\n",
    "print alllimits"
   ]
  },
  {
   "cell_type": "code",
   "execution_count": 5,
   "metadata": {
    "collapsed": false
   },
   "outputs": [],
   "source": [
    "PIT = approx_pdf.integrate(limits=alllimits,using='gridded',dx=0.001)"
   ]
  },
  {
   "cell_type": "code",
   "execution_count": 6,
   "metadata": {
    "collapsed": false
   },
   "outputs": [
    {
     "name": "stdout",
     "output_type": "stream",
     "text": [
      "111171\n"
     ]
    }
   ],
   "source": [
    "print len(PIT)"
   ]
  },
  {
   "cell_type": "code",
   "execution_count": 7,
   "metadata": {
    "collapsed": true
   },
   "outputs": [],
   "source": [
    "npct = 100\n",
    "dpct = 100./(npct)\n",
    "curpct = 0.0\n",
    "finpct = []\n",
    "percentiles = np.arange(0,100,dpct)\n",
    "for i in range(npct):\n",
    "    tmpx = np.percentile(PIT,curpct)\n",
    "    finpct.append(tmpx)\n",
    "    curpct += dpct"
   ]
  },
  {
   "cell_type": "code",
   "execution_count": 8,
   "metadata": {
    "collapsed": true
   },
   "outputs": [],
   "source": [
    "QT = percentiles/100."
   ]
  },
  {
   "cell_type": "code",
   "execution_count": 9,
   "metadata": {
    "collapsed": false
   },
   "outputs": [
    {
     "data": {
      "text/plain": [
       "<matplotlib.text.Text at 0x11192b210>"
      ]
     },
     "execution_count": 9,
     "metadata": {},
     "output_type": "execute_result"
    },
    {
     "data": {
      "image/png": "[encoded data removed]",
      "text/plain": [
       "<matplotlib.figure.Figure at 0x10f2aca90>"
      ]
     },
     "metadata": {},
     "output_type": "display_data"
    }
   ],
   "source": [
    "plt.figure(figsize=(10,10))\n",
    "plt.plot(QT,finpct)\n",
    "plt.plot([0,1], [0, 1], color='k', linestyle='-', linewidth=2)\n",
    "plt.xlabel(\"QTheory\",fontsize=18)\n",
    "plt.ylabel(\"QData\",fontsize=18)"
   ]
  },
  {
   "cell_type": "code",
   "execution_count": null,
   "metadata": {
    "collapsed": true
   },
   "outputs": [],
   "source": []
  }
 ],
 "metadata": {
  "kernelspec": {
   "display_name": "Python 2",
   "language": "python",
   "name": "python2"
  },
  "language_info": {
   "codemirror_mode": {
    "name": "ipython",
    "version": 2
   },
   "file_extension": ".py",
   "mimetype": "text/x-python",
   "name": "python",
   "nbconvert_exporter": "python",
   "pygments_lexer": "ipython2",
   "version": "2.7.11"
  }
 },
 "nbformat": 4,
 "nbformat_minor": 0
}
