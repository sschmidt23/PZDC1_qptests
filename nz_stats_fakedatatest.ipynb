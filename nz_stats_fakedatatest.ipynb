{
 "cells": [
  {
   "cell_type": "code",
   "execution_count": 1,
   "metadata": {
    "collapsed": false
   },
   "outputs": [],
   "source": [
    "import numpy as np\n",
    "import matplotlib.pyplot as plt\n",
    "import scipy.stats as ss\n",
    "import qp\n",
    "import individual_metrics as inmet\n",
    "import skgof\n",
    "%matplotlib inline"
   ]
  },
  {
   "cell_type": "code",
   "execution_count": 11,
   "metadata": {
    "collapsed": false
   },
   "outputs": [],
   "source": [
    "func1 = ss.norm(loc=3.0,scale=0.5)\n",
    "x = np.arange(0.5,10.0,0.02)\n",
    "y1 = func1.pdf(x)*20000./0.25*0.1\n",
    "func2= ss.norm(loc=5.0,scale=0.35)\n",
    "y2 = func2.pdf(x)*40000./0.35*0.1\n"
   ]
  },
  {
   "cell_type": "code",
   "execution_count": 3,
   "metadata": {
    "collapsed": false
   },
   "outputs": [
    {
     "data": {
      "text/plain": [
       "[<matplotlib.lines.Line2D at 0x111626e10>]"
      ]
     },
     "execution_count": 3,
     "metadata": {},
     "output_type": "execute_result"
    },
    {
     "data": {
      "image/png": "[encoded data removed]",
      "text/plain": [
       "<matplotlib.figure.Figure at 0x10eb2ea90>"
      ]
     },
     "metadata": {},
     "output_type": "display_data"
    }
   ],
   "source": [
    "samples1 = np.array(func1.rvs(size=20000))\n",
    "samples2 = np.array(func2.rvs(size=40000))\n",
    "plt.hist(samples1, normed=False, histtype='stepfilled', alpha=0.2)\n",
    "plt.hist(samples2, normed=False, histtype='stepfilled', alpha=0.2)\n",
    "plt.plot(x,y1,lw=2,c='r')\n",
    "plt.plot(x,y2,lw=2,c='b')"
   ]
  },
  {
   "cell_type": "code",
   "execution_count": 4,
   "metadata": {
    "collapsed": false
   },
   "outputs": [
    {
     "name": "stdout",
     "output_type": "stream",
     "text": [
      "60000\n"
     ]
    }
   ],
   "source": [
    "bigsample = np.append(samples1,samples2)\n",
    "print len(bigsample)"
   ]
  },
  {
   "cell_type": "code",
   "execution_count": 5,
   "metadata": {
    "collapsed": false
   },
   "outputs": [
    {
     "name": "stdout",
     "output_type": "stream",
     "text": [
      "made the pool of 4 in 0.038831949234\n",
      "made the catalog in 0.0184350013733\n"
     ]
    }
   ],
   "source": [
    "smallgrid=np.zeros([2,len(y1)])\n",
    "smallgrid[0,:] = y1\n",
    "smallgrid[1,:] = y2\n",
    "approx_pdf = qp.Ensemble(smallgrid.shape[0],gridded=(x,smallgrid))"
   ]
  },
  {
   "cell_type": "code",
   "execution_count": 6,
   "metadata": {
    "collapsed": false
   },
   "outputs": [],
   "source": [
    "nzobj = inmet.NzSumEvaluateMetric(approx_pdf,bigsample,eval_grid=x,using='gridded',dx=0.0001)"
   ]
  },
  {
   "cell_type": "code",
   "execution_count": 7,
   "metadata": {
    "collapsed": true
   },
   "outputs": [],
   "source": [
    "ks_stat,ks_pval = nzobj.NZKS()"
   ]
  },
  {
   "cell_type": "code",
   "execution_count": 8,
   "metadata": {
    "collapsed": false
   },
   "outputs": [
    {
     "name": "stdout",
     "output_type": "stream",
     "text": [
      "0.163582805527\n",
      "0.0995835253586\n"
     ]
    }
   ],
   "source": [
    "print ks_stat\n",
    "print ks_pval"
   ]
  },
  {
   "cell_type": "code",
   "execution_count": 9,
   "metadata": {
    "collapsed": false
   },
   "outputs": [
    {
     "name": "stdout",
     "output_type": "stream",
     "text": [
      "556.577611173\n",
      "0.133496590343\n"
     ]
    }
   ],
   "source": [
    "cvm_stat,cvm_pval = nzobj.NZCVM()\n",
    "print cvm_stat\n",
    "print cvm_pval"
   ]
  },
  {
   "cell_type": "code",
   "execution_count": 10,
   "metadata": {
    "collapsed": false
   },
   "outputs": [
    {
     "name": "stdout",
     "output_type": "stream",
     "text": [
      "2579.72505904\n",
      "1.00000000502e-08\n"
     ]
    }
   ],
   "source": [
    "ad_stat,ad_pval = nzobj.NZAD()\n",
    "print ad_stat\n",
    "print ad_pval"
   ]
  }
 ],
 "metadata": {
  "kernelspec": {
   "display_name": "Python 2",
   "language": "python",
   "name": "python2"
  },
  "language_info": {
   "codemirror_mode": {
    "name": "ipython",
    "version": 2
   },
   "file_extension": ".py",
   "mimetype": "text/x-python",
   "name": "python",
   "nbconvert_exporter": "python",
   "pygments_lexer": "ipython2",
   "version": "2.7.11"
  }
 },
 "nbformat": 4,
 "nbformat_minor": 0
}
