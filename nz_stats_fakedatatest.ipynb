{
 "cells": [
  {
   "cell_type": "code",
   "execution_count": 1,
   "metadata": {
    "collapsed": false
   },
   "outputs": [],
   "source": [
    "import numpy as np\n",
    "import matplotlib.pyplot as plt\n",
    "import scipy.stats as ss\n",
    "import qp\n",
    "import individual_metrics as inmet\n",
    "import skgof\n",
    "%matplotlib inline"
   ]
  },
  {
   "cell_type": "code",
   "execution_count": 2,
   "metadata": {
    "collapsed": false
   },
   "outputs": [],
   "source": [
    "func1 = ss.norm(loc=3.0,scale=0.5)\n",
    "x = np.arange(0.5,10.0,0.02)\n",
    "y1 = func1.pdf(x)*20000./0.25*0.1\n",
    "func2= ss.norm(loc=5.0,scale=0.35)\n",
    "y2 = func2.pdf(x)*40000./0.35*0.1\n"
   ]
  },
  {
   "cell_type": "code",
   "execution_count": 3,
   "metadata": {
    "collapsed": false
   },
   "outputs": [
    {
     "data": {
      "text/plain": [
       "[<matplotlib.lines.Line2D at 0x10f24aad0>]"
      ]
     },
     "execution_count": 3,
     "metadata": {},
     "output_type": "execute_result"
    },
    {
     "data": {
      "image/png": "[encoded data removed]",
      "text/plain": [
       "<matplotlib.figure.Figure at 0x103fa8910>"
      ]
     },
     "metadata": {},
     "output_type": "display_data"
    }
   ],
   "source": [
    "samples1 = np.array(func1.rvs(size=20000))\n",
    "samples2 = np.array(func2.rvs(size=40000))\n",
    "plt.hist(samples1, normed=False, histtype='stepfilled', alpha=0.2)\n",
    "plt.hist(samples2, normed=False, histtype='stepfilled', alpha=0.2)\n",
    "plt.plot(x,y1,lw=2,c='r')\n",
    "plt.plot(x,y2,lw=2,c='b')"
   ]
  },
  {
   "cell_type": "code",
   "execution_count": 4,
   "metadata": {
    "collapsed": false
   },
   "outputs": [
    {
     "name": "stdout",
     "output_type": "stream",
     "text": [
      "60000\n"
     ]
    }
   ],
   "source": [
    "bigsample = np.append(samples1,samples2)\n",
    "print len(bigsample)"
   ]
  },
  {
   "cell_type": "code",
   "execution_count": 5,
   "metadata": {
    "collapsed": false
   },
   "outputs": [
    {
     "name": "stdout",
     "output_type": "stream",
     "text": [
      "made the pool of 4 in 0.0368738174438\n",
      "made the catalog in 0.0178170204163\n"
     ]
    }
   ],
   "source": [
    "smallgrid=np.zeros([2,len(y1)])\n",
    "smallgrid[0,:] = y1\n",
    "smallgrid[1,:] = y2\n",
    "approx_pdf = qp.Ensemble(smallgrid.shape[0],gridded=(x,smallgrid))"
   ]
  },
  {
   "cell_type": "code",
   "execution_count": 6,
   "metadata": {
    "collapsed": false
   },
   "outputs": [],
   "source": [
    "nzobj = inmet.NzSumEvaluateMetric(approx_pdf,bigsample,eval_grid=x,using='gridded',dx=0.0001)"
   ]
  },
  {
   "cell_type": "code",
   "execution_count": 7,
   "metadata": {
    "collapsed": true
   },
   "outputs": [],
   "source": [
    "ks_stat,ks_pval = nzobj.NZKS()"
   ]
  },
  {
   "cell_type": "code",
   "execution_count": 8,
   "metadata": {
    "collapsed": false
   },
   "outputs": [
    {
     "name": "stdout",
     "output_type": "stream",
     "text": [
      "0.164346210098\n",
      "0.101166957639\n"
     ]
    }
   ],
   "source": [
    "print ks_stat\n",
    "print ks_pval"
   ]
  },
  {
   "cell_type": "code",
   "execution_count": 9,
   "metadata": {
    "collapsed": false
   },
   "outputs": [
    {
     "name": "stdout",
     "output_type": "stream",
     "text": [
      "557.461080355\n",
      "0.133690352499\n"
     ]
    }
   ],
   "source": [
    "cvm_stat,cvm_pval = nzobj.NZCVM()\n",
    "print cvm_stat\n",
    "print cvm_pval"
   ]
  },
  {
   "cell_type": "code",
   "execution_count": 38,
   "metadata": {
    "collapsed": false
   },
   "outputs": [
    {
     "name": "stdout",
     "output_type": "stream",
     "text": [
      "using 2.000000 and 5.000000 for vmin and vmax\n",
      "\n",
      "7190.56074879\n",
      "3.07093868113e-08\n"
     ]
    }
   ],
   "source": [
    "ad_stat,ad_pval = nzobj.NZAD(vmin = 2.0, vmax=5.0)\n",
    "print ad_stat\n",
    "print ad_pval"
   ]
  },
  {
   "cell_type": "code",
   "execution_count": 10,
   "metadata": {
    "collapsed": false
   },
   "outputs": [
    {
     "name": "stdout",
     "output_type": "stream",
     "text": [
      "using 1.000000 and 6.000000 for vmin and vmax\n",
      "\n",
      "2549.70661698\n",
      "1.00135182368e-08\n"
     ]
    }
   ],
   "source": [
    "ad_stat,ad_pval = nzobj.NZAD(vmin = 1.0, vmax=6.0)\n",
    "print ad_stat\n",
    "print ad_pval"
   ]
  },
  {
   "cell_type": "code",
   "execution_count": 11,
   "metadata": {
    "collapsed": true
   },
   "outputs": [],
   "source": [
    "nzobj = inmet.NzSumEvaluateMetric(approx_pdf,bigsample,eval_grid=x,using='gridded',dx=0.005)"
   ]
  },
  {
   "cell_type": "code",
   "execution_count": 36,
   "metadata": {
    "collapsed": false
   },
   "outputs": [
    {
     "name": "stdout",
     "output_type": "stream",
     "text": [
      "using 0.000000 and 19.000000 for vmin and vmax\n",
      "\n",
      "7609.28715303\n",
      "3.00000000397e-08\n"
     ]
    }
   ],
   "source": [
    "ad_stat,ad_pval = nzobj.NZAD(vmin=0.0,vmax =19.0 )\n",
    "print ad_stat\n",
    "print ad_pval"
   ]
  },
  {
   "cell_type": "code",
   "execution_count": 37,
   "metadata": {
    "collapsed": false
   },
   "outputs": [
    {
     "name": "stdout",
     "output_type": "stream",
     "text": [
      "using 3.000000 and 4.500000 for vmin and vmax\n",
      "\n",
      "2925.08511545\n",
      "6.01383181031e-08\n"
     ]
    }
   ],
   "source": [
    "ad_stat,ad_pval = nzobj.NZAD(vmin=3.0,vmax =4.5 )\n",
    "print ad_stat\n",
    "print ad_pval"
   ]
  },
  {
   "cell_type": "markdown",
   "metadata": {},
   "source": [
    "# test calculation of KL divergence, need to create a qp.PDF object from the samples"
   ]
  },
  {
   "cell_type": "code",
   "execution_count": 18,
   "metadata": {
    "collapsed": false
   },
   "outputs": [
    {
     "name": "stdout",
     "output_type": "stream",
     "text": [
      "Created a KDE interpolator for the samples parametrization.\n",
      "interpolating between 0.80790934911 and 6.48511658233 using samples\n",
      "Plotted samples\n"
     ]
    },
    {
     "data": {
      "image/png": "[encoded data removed]",
      "text/plain": [
       "<matplotlib.figure.Figure at 0x111d22bd0>"
      ]
     },
     "metadata": {},
     "output_type": "display_data"
    }
   ],
   "source": [
    "samplepdf = qp.PDF(samples=bigsample)\n",
    "samplepdf.plot()"
   ]
  },
  {
   "cell_type": "code",
   "execution_count": 19,
   "metadata": {
    "collapsed": false
   },
   "outputs": [
    {
     "name": "stdout",
     "output_type": "stream",
     "text": [
      "<qp.pdf.PDF object at 0x1117b6d90>\n"
     ]
    }
   ],
   "source": [
    "print nzobj.stackpz"
   ]
  },
  {
   "cell_type": "code",
   "execution_count": 20,
   "metadata": {
    "collapsed": false
   },
   "outputs": [
    {
     "name": "stdout",
     "output_type": "stream",
     "text": [
      "Created a KDE interpolator for the samples parametrization.\n",
      "interpolating between 0.0 and 7.9999 using samples\n",
      "almost normalized integrals\n",
      "Created a `linear` interpolator for the gridded parametrization.\n",
      "interpolating between 0.0 and 7.9999 using gridded\n",
      "almost normalized integrals\n"
     ]
    }
   ],
   "source": [
    "kldtest = qp.utils.calculate_kl_divergence(samplepdf,nzobj.stackpz,limits=(0.0,8.0),dx=0.0001,vb=True)"
   ]
  },
  {
   "cell_type": "code",
   "execution_count": 21,
   "metadata": {
    "collapsed": false
   },
   "outputs": [
    {
     "name": "stdout",
     "output_type": "stream",
     "text": [
      "0.0563963487573\n"
     ]
    }
   ],
   "source": [
    "print kldtest"
   ]
  },
  {
   "cell_type": "code",
   "execution_count": 22,
   "metadata": {
    "collapsed": false
   },
   "outputs": [
    {
     "name": "stdout",
     "output_type": "stream",
     "text": [
      "Created a KDE interpolator for the samples parametrization.\n",
      "interpolating between 0.0 and 7.995 using samples\n",
      "almost normalized integrals\n",
      "Created a `linear` interpolator for the gridded parametrization.\n",
      "interpolating between 0.0 and 7.995 using gridded\n",
      "almost normalized integrals\n"
     ]
    }
   ],
   "source": [
    "kldtestx = qp.utils.calculate_kl_divergence(samplepdf,nzobj.stackpz,limits=(0.0,8.0),dx=0.005,vb=True)"
   ]
  },
  {
   "cell_type": "code",
   "execution_count": 23,
   "metadata": {
    "collapsed": false
   },
   "outputs": [
    {
     "name": "stdout",
     "output_type": "stream",
     "text": [
      "0.0563972803876\n"
     ]
    }
   ],
   "source": [
    "print kldtestx"
   ]
  },
  {
   "cell_type": "code",
   "execution_count": 24,
   "metadata": {
    "collapsed": false
   },
   "outputs": [
    {
     "name": "stdout",
     "output_type": "stream",
     "text": [
      "Created a KDE interpolator for the samples parametrization.\n",
      "interpolating between 0.0 and 7.95 using samples\n",
      "almost normalized integrals\n",
      "Created a `linear` interpolator for the gridded parametrization.\n",
      "interpolating between 0.0 and 7.95 using gridded\n",
      "almost normalized integrals\n"
     ]
    }
   ],
   "source": [
    "kldtestxx = qp.utils.calculate_kl_divergence(samplepdf,nzobj.stackpz,limits=(0.0,8.0),dx=0.05,vb=True)"
   ]
  },
  {
   "cell_type": "code",
   "execution_count": 25,
   "metadata": {
    "collapsed": false
   },
   "outputs": [
    {
     "name": "stdout",
     "output_type": "stream",
     "text": [
      "0.0563997144113\n"
     ]
    }
   ],
   "source": [
    "print kldtestxx"
   ]
  },
  {
   "cell_type": "markdown",
   "metadata": {},
   "source": [
    "Not super sensitive to dx!"
   ]
  },
  {
   "cell_type": "markdown",
   "metadata": {},
   "source": [
    "compare to a pdf created only from one of the two Gaussians, the first 20,000 read in as samples"
   ]
  },
  {
   "cell_type": "code",
   "execution_count": 26,
   "metadata": {
    "collapsed": true
   },
   "outputs": [],
   "source": [
    "badpdftest = qp.PDF(samples=bigsample[:20000])"
   ]
  },
  {
   "cell_type": "code",
   "execution_count": 27,
   "metadata": {
    "collapsed": false
   },
   "outputs": [
    {
     "name": "stdout",
     "output_type": "stream",
     "text": [
      "Created a KDE interpolator for the samples parametrization.\n",
      "interpolating between 0.80790934911 and 5.06027354651 using samples\n",
      "Plotted samples\n"
     ]
    },
    {
     "data": {
      "image/png": "[encoded data removed]",
      "text/plain": [
       "<matplotlib.figure.Figure at 0x111d22810>"
      ]
     },
     "metadata": {},
     "output_type": "display_data"
    }
   ],
   "source": [
    "badpdftest.plot()"
   ]
  },
  {
   "cell_type": "code",
   "execution_count": 28,
   "metadata": {
    "collapsed": false
   },
   "outputs": [
    {
     "name": "stdout",
     "output_type": "stream",
     "text": [
      "Created a KDE interpolator for the samples parametrization.\n",
      "interpolating between 0.0 and 7.999 using samples\n",
      "almost normalized integrals\n",
      "Created a `linear` interpolator for the gridded parametrization.\n",
      "interpolating between 0.0 and 7.999 using gridded\n",
      "almost normalized integrals\n"
     ]
    }
   ],
   "source": [
    "kldtest = qp.utils.calculate_kl_divergence(badpdftest,nzobj.stackpz,limits=(0.0,8.0),dx=0.001,vb=True)"
   ]
  },
  {
   "cell_type": "code",
   "execution_count": 29,
   "metadata": {
    "collapsed": false
   },
   "outputs": [
    {
     "name": "stdout",
     "output_type": "stream",
     "text": [
      "0.661561839118\n"
     ]
    }
   ],
   "source": [
    "print kldtest"
   ]
  },
  {
   "cell_type": "code",
   "execution_count": null,
   "metadata": {
    "collapsed": true
   },
   "outputs": [],
   "source": []
  }
 ],
 "metadata": {
  "kernelspec": {
   "display_name": "Python 2",
   "language": "python",
   "name": "python2"
  },
  "language_info": {
   "codemirror_mode": {
    "name": "ipython",
    "version": 2
   },
   "file_extension": ".py",
   "mimetype": "text/x-python",
   "name": "python",
   "nbconvert_exporter": "python",
   "pygments_lexer": "ipython2",
   "version": "2.7.11"
  }
 },
 "nbformat": 4,
 "nbformat_minor": 0
}
