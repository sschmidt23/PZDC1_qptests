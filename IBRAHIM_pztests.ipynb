{
 "cells": [
  {
   "cell_type": "code",
   "execution_count": 1,
   "metadata": {
    "collapsed": false
   },
   "outputs": [],
   "source": [
    "import numpy as np\n",
    "import matplotlib.pyplot as plt\n",
    "import scipy.stats as ss\n",
    "import qp\n",
    "import individual_metrics as inmet\n",
    "import skgof\n",
    "%matplotlib inline"
   ]
  },
  {
   "cell_type": "markdown",
   "metadata": {
    "collapsed": true
   },
   "source": [
    "# Test 10% of Ibrahim's data"
   ]
  },
  {
   "cell_type": "code",
   "execution_count": 2,
   "metadata": {
    "collapsed": false
   },
   "outputs": [
    {
     "name": "stdout",
     "output_type": "stream",
     "text": [
      "[ 0.    0.01  0.02  0.03  0.04  0.05  0.06  0.07  0.08  0.09  0.1   0.11\n",
      "  0.12  0.13  0.14  0.15  0.16  0.17  0.18  0.19  0.2   0.21  0.22  0.23\n",
      "  0.24  0.25  0.26  0.27  0.28  0.29  0.3   0.31  0.32  0.33  0.34  0.35\n",
      "  0.36  0.37  0.38  0.39  0.4   0.41  0.42  0.43  0.44  0.45  0.46  0.47\n",
      "  0.48  0.49  0.5   0.51  0.52  0.53  0.54  0.55  0.56  0.57  0.58  0.59\n",
      "  0.6   0.61  0.62  0.63  0.64  0.65  0.66  0.67  0.68  0.69  0.7   0.71\n",
      "  0.72  0.73  0.74  0.75  0.76  0.77  0.78  0.79  0.8   0.81  0.82  0.83\n",
      "  0.84  0.85  0.86  0.87  0.88  0.89  0.9   0.91  0.92  0.93  0.94  0.95\n",
      "  0.96  0.97  0.98  0.99  1.    1.01  1.02  1.03  1.04  1.05  1.06  1.07\n",
      "  1.08  1.09  1.1   1.11  1.12  1.13  1.14  1.15  1.16  1.17  1.18  1.19\n",
      "  1.2   1.21  1.22  1.23  1.24  1.25  1.26  1.27  1.28  1.29  1.3   1.31\n",
      "  1.32  1.33  1.34  1.35  1.36  1.37  1.38  1.39  1.4   1.41  1.42  1.43\n",
      "  1.44  1.45  1.46  1.47  1.48  1.49  1.5   1.51  1.52  1.53  1.54  1.55\n",
      "  1.56  1.57  1.58  1.59  1.6   1.61  1.62  1.63  1.64  1.65  1.66  1.67\n",
      "  1.68  1.69  1.7   1.71  1.72  1.73  1.74  1.75  1.76  1.77  1.78  1.79\n",
      "  1.8   1.81  1.82  1.83  1.84  1.85  1.86  1.87  1.88  1.89  1.9   1.91\n",
      "  1.92  1.93  1.94  1.95  1.96  1.97  1.98  1.99  2.  ]\n",
      "[ 0.0383  0.0376  0.0643 ...,  1.89    1.96    1.97  ]\n"
     ]
    }
   ],
   "source": [
    "infile = \"/Users/samschmidt/PZPAPER/mystuff/IBRAHIM/everytenth_PDF.out\"\n",
    "szfile = \"/Users/samschmidt/PZPAPER/mystuff/IBRAHIM/everytenth_idszimag.out\"\n",
    "z_array = np.arange(0.0,2.0050,0.0100) #this is the grid that Ibrahim uses\n",
    "print z_array\n",
    "tmpdata = np.loadtxt(szfile)\n",
    "z_trues = tmpdata[:,1]\n",
    "mags = tmpdata[:,2]\n",
    "alldata = np.loadtxt(infile)\n",
    "ID = alldata[:,0]\n",
    "pzs = alldata[:,1:]\n",
    "ngals = len(ID)\n",
    "print z_trues"
   ]
  },
  {
   "cell_type": "code",
   "execution_count": 3,
   "metadata": {
    "collapsed": false
   },
   "outputs": [
    {
     "name": "stdout",
     "output_type": "stream",
     "text": [
      "made the pool of 4 in 0.0380280017853\n",
      "made the catalog in 178.735646009\n"
     ]
    }
   ],
   "source": [
    "bpz_approx_pdf = qp.Ensemble(pzs.shape[0],gridded=(z_array,pzs))"
   ]
  },
  {
   "cell_type": "code",
   "execution_count": 4,
   "metadata": {
    "collapsed": false
   },
   "outputs": [],
   "source": [
    "bpzobj = inmet.EvaluateMetric(bpz_approx_pdf,z_trues)"
   ]
  },
  {
   "cell_type": "code",
   "execution_count": 5,
   "metadata": {
    "collapsed": true
   },
   "outputs": [],
   "source": [
    "bpzPIT = bpzobj.PIT()"
   ]
  },
  {
   "cell_type": "code",
   "execution_count": 6,
   "metadata": {
    "collapsed": false
   },
   "outputs": [
    {
     "name": "stdout",
     "output_type": "stream",
     "text": [
      "0.0695621735947\n",
      "0.00269726830534\n"
     ]
    }
   ],
   "source": [
    "ks_stat,ks_pval = bpzobj.KS(using='gridded',dx=0.0001)\n",
    "print ks_stat\n",
    "print ks_pval"
   ]
  },
  {
   "cell_type": "code",
   "execution_count": 7,
   "metadata": {
    "collapsed": false
   },
   "outputs": [
    {
     "name": "stdout",
     "output_type": "stream",
     "text": [
      "156.680544205\n",
      "0.0217237637062\n"
     ]
    }
   ],
   "source": [
    "cvm_stat,cvm_pval=bpzobj.CvM(using='gridded',dx=0.0001)\n",
    "print cvm_stat\n",
    "print cvm_pval"
   ]
  },
  {
   "cell_type": "code",
   "execution_count": 8,
   "metadata": {
    "collapsed": false
   },
   "outputs": [
    {
     "name": "stdout",
     "output_type": "stream",
     "text": [
      "now with proper uniform range\n",
      "845.191285163\n",
      "6.48221176736e-09\n"
     ]
    }
   ],
   "source": [
    "ad_stat,ad_pval=bpzobj.AD(using='gridded',dx=0.0001,vmin=0.05,vmax=0.95)\n",
    "print ad_stat\n",
    "print ad_pval"
   ]
  },
  {
   "cell_type": "code",
   "execution_count": 9,
   "metadata": {
    "collapsed": false
   },
   "outputs": [
    {
     "name": "stdout",
     "output_type": "stream",
     "text": [
      "now with proper uniform range\n",
      "538.021439316\n",
      "6.96831736757e-09\n"
     ]
    }
   ],
   "source": [
    "ad_stat,ad_pval=bpzobj.AD(using='gridded',dx=0.0001,vmin=0.1,vmax=0.9)\n",
    "print ad_stat\n",
    "print ad_pval"
   ]
  },
  {
   "cell_type": "code",
   "execution_count": 10,
   "metadata": {
    "collapsed": false
   },
   "outputs": [
    {
     "name": "stdout",
     "output_type": "stream",
     "text": [
      "now with proper uniform range\n",
      "959.575470765\n",
      "5.99784077959e-09\n"
     ]
    }
   ],
   "source": [
    "ad_stat,ad_pval=bpzobj.AD(using='gridded',dx=0.0001,vmin=0.0,vmax=1.0)\n",
    "print ad_stat\n",
    "print ad_pval"
   ]
  },
  {
   "cell_type": "code",
   "execution_count": 11,
   "metadata": {
    "collapsed": false
   },
   "outputs": [
    {
     "name": "stdout",
     "output_type": "stream",
     "text": [
      "now with proper uniform range\n",
      "51.3510414982\n",
      "4.95008662948e-08\n"
     ]
    }
   ],
   "source": [
    "ad_stat,ad_pval=bpzobj.AD(using='gridded',dx=0.0001,vmin=0.8,vmax=0.95)\n",
    "print ad_stat\n",
    "print ad_pval"
   ]
  },
  {
   "cell_type": "code",
   "execution_count": 12,
   "metadata": {
    "collapsed": false
   },
   "outputs": [
    {
     "name": "stdout",
     "output_type": "stream",
     "text": [
      "now with proper uniform range\n",
      "141.391482791\n",
      "3.6827890959e-08\n"
     ]
    }
   ],
   "source": [
    "ad_stat,ad_pval=bpzobj.AD(using='gridded',dx=0.0001,vmin=0.8,vmax=1.0)\n",
    "print ad_stat\n",
    "print ad_pval"
   ]
  },
  {
   "cell_type": "markdown",
   "metadata": {},
   "source": [
    "GPz seems to be less biased than BPZ, width of p(z)'s appears to be on average off a bit"
   ]
  },
  {
   "cell_type": "code",
   "execution_count": 13,
   "metadata": {
    "collapsed": false
   },
   "outputs": [
    {
     "data": {
      "image/png": "[encoded data removed]",
      "text/plain": [
       "<matplotlib.figure.Figure at 0x146509b50>"
      ]
     },
     "metadata": {},
     "output_type": "display_data"
    }
   ],
   "source": [
    "bpzobj.QQplot(using='gridded',dx=0.0001,Nquants=1001)"
   ]
  },
  {
   "cell_type": "code",
   "execution_count": null,
   "metadata": {
    "collapsed": true
   },
   "outputs": [],
   "source": []
  },
  {
   "cell_type": "code",
   "execution_count": 14,
   "metadata": {
    "collapsed": false
   },
   "outputs": [
    {
     "data": {
      "text/plain": [
       "<matplotlib.text.Text at 0x11036e8d0>"
      ]
     },
     "execution_count": 14,
     "metadata": {},
     "output_type": "execute_result"
    },
    {
     "data": {
      "image/png": "[encoded data removed]",
      "text/plain": [
       "<matplotlib.figure.Figure at 0x1475fffd0>"
      ]
     },
     "metadata": {},
     "output_type": "display_data"
    }
   ],
   "source": [
    "fig = plt.figure(figsize=(15,15))\n",
    "plt.hist(bpzPIT, normed=False, histtype='stepfilled', alpha=0.7,bins=np.arange(0.0,1.01,.01))\n",
    "plt.xlim([0.0,1.0])\n",
    "plt.xlabel(\"PIT value\",size=18)\n",
    "plt.ylabel(\"Number\",size=18)"
   ]
  },
  {
   "cell_type": "markdown",
   "metadata": {},
   "source": [
    "# Make i<25.3 gold cut"
   ]
  },
  {
   "cell_type": "code",
   "execution_count": null,
   "metadata": {
    "collapsed": true
   },
   "outputs": [],
   "source": []
  },
  {
   "cell_type": "code",
   "execution_count": 15,
   "metadata": {
    "collapsed": false
   },
   "outputs": [
    {
     "name": "stdout",
     "output_type": "stream",
     "text": [
      "100089 100089\n"
     ]
    }
   ],
   "source": [
    "print len(mags),len(z_trues)"
   ]
  },
  {
   "cell_type": "code",
   "execution_count": 16,
   "metadata": {
    "collapsed": false
   },
   "outputs": [
    {
     "name": "stdout",
     "output_type": "stream",
     "text": [
      "39892\n",
      "(39892, 201)\n"
     ]
    }
   ],
   "source": [
    "magcut = (mags<25.3)\n",
    "goldzs = z_trues[magcut]\n",
    "goldpzs = pzs[magcut]\n",
    "goldnumgals = len(goldzs)\n",
    "print goldnumgals\n",
    "print goldpzs.shape"
   ]
  },
  {
   "cell_type": "code",
   "execution_count": 17,
   "metadata": {
    "collapsed": false
   },
   "outputs": [
    {
     "name": "stdout",
     "output_type": "stream",
     "text": [
      "made the pool of 4 in 0.0243787765503\n",
      "made the catalog in 83.7313768864\n"
     ]
    }
   ],
   "source": [
    "gold_pdf = qp.Ensemble(goldpzs.shape[0],gridded=(z_array,goldpzs))"
   ]
  },
  {
   "cell_type": "code",
   "execution_count": 18,
   "metadata": {
    "collapsed": true
   },
   "outputs": [],
   "source": [
    "goldbpzobj = inmet.EvaluateMetric(gold_pdf,goldzs)"
   ]
  },
  {
   "cell_type": "code",
   "execution_count": 19,
   "metadata": {
    "collapsed": true
   },
   "outputs": [],
   "source": [
    "goldPIT = goldbpzobj.PIT()"
   ]
  },
  {
   "cell_type": "code",
   "execution_count": 20,
   "metadata": {
    "collapsed": false
   },
   "outputs": [
    {
     "name": "stdout",
     "output_type": "stream",
     "text": [
      "0.0580381158441\n",
      "3.03614355665e-117\n"
     ]
    }
   ],
   "source": [
    "ks_stat,ks_pval = goldbpzobj.KS(using='gridded',dx=0.0001)\n",
    "print ks_stat\n",
    "print ks_pval"
   ]
  },
  {
   "cell_type": "code",
   "execution_count": 21,
   "metadata": {
    "collapsed": false
   },
   "outputs": [
    {
     "name": "stdout",
     "output_type": "stream",
     "text": [
      "51.8159124958\n",
      "0.000456734810105\n"
     ]
    }
   ],
   "source": [
    "cvm_stat,cvm_pval=goldbpzobj.CvM(using='gridded',dx=0.0001)\n",
    "print cvm_stat\n",
    "print cvm_pval"
   ]
  },
  {
   "cell_type": "code",
   "execution_count": 22,
   "metadata": {
    "collapsed": false
   },
   "outputs": [
    {
     "name": "stdout",
     "output_type": "stream",
     "text": [
      "now with proper uniform range\n",
      "278.391066038\n",
      "1.62131488235e-08\n"
     ]
    }
   ],
   "source": [
    "ad_stat,ad_pval=goldbpzobj.AD(using='gridded',dx=0.0001,vmin=0.05,vmax=0.95)\n",
    "print ad_stat\n",
    "print ad_pval"
   ]
  },
  {
   "cell_type": "code",
   "execution_count": 23,
   "metadata": {
    "collapsed": false
   },
   "outputs": [
    {
     "name": "stdout",
     "output_type": "stream",
     "text": [
      "now with proper uniform range\n",
      "184.872676618\n",
      "1.74962820898e-08\n"
     ]
    }
   ],
   "source": [
    "ad_stat,ad_pval=goldbpzobj.AD(using='gridded',dx=0.0001,vmin=0.1,vmax=0.9)\n",
    "print ad_stat\n",
    "print ad_pval"
   ]
  },
  {
   "cell_type": "code",
   "execution_count": 24,
   "metadata": {
    "collapsed": false
   },
   "outputs": [
    {
     "name": "stdout",
     "output_type": "stream",
     "text": [
      "now with proper uniform range\n",
      "34.6350001173\n",
      "1.21852152701e-07\n"
     ]
    }
   ],
   "source": [
    "ad_stat,ad_pval=goldbpzobj.AD(using='gridded',dx=0.0001,vmin=0.8,vmax=0.95)\n",
    "print ad_stat\n",
    "print ad_pval"
   ]
  },
  {
   "cell_type": "code",
   "execution_count": 25,
   "metadata": {
    "collapsed": false
   },
   "outputs": [
    {
     "data": {
      "image/png": "[encoded data removed]",
      "text/plain": [
       "<matplotlib.figure.Figure at 0x144b2f910>"
      ]
     },
     "metadata": {},
     "output_type": "display_data"
    }
   ],
   "source": [
    "goldbpzobj.QQplot(using='gridded',dx=0.0001,Nquants=1001)"
   ]
  },
  {
   "cell_type": "code",
   "execution_count": 26,
   "metadata": {
    "collapsed": false
   },
   "outputs": [
    {
     "data": {
      "text/plain": [
       "<matplotlib.text.Text at 0x115df6150>"
      ]
     },
     "execution_count": 26,
     "metadata": {},
     "output_type": "execute_result"
    },
    {
     "data": {
      "image/png": "[encoded data removed]",
      "text/plain": [
       "<matplotlib.figure.Figure at 0x14619f410>"
      ]
     },
     "metadata": {},
     "output_type": "display_data"
    }
   ],
   "source": [
    "fig = plt.figure(figsize=(15,15))\n",
    "plt.hist(goldPIT, normed=False, histtype='stepfilled', alpha=0.7,bins=np.arange(0.0,1.01,.01))\n",
    "plt.xlim([0.0,1.0])\n",
    "plt.xlabel(\"gold sample PIT value\",size=18)\n",
    "plt.ylabel(\"Number\",size=18)"
   ]
  },
  {
   "cell_type": "code",
   "execution_count": null,
   "metadata": {
    "collapsed": true
   },
   "outputs": [],
   "source": []
  }
 ],
 "metadata": {
  "kernelspec": {
   "display_name": "Python 2",
   "language": "python",
   "name": "python2"
  },
  "language_info": {
   "codemirror_mode": {
    "name": "ipython",
    "version": 2
   },
   "file_extension": ".py",
   "mimetype": "text/x-python",
   "name": "python",
   "nbconvert_exporter": "python",
   "pygments_lexer": "ipython2",
   "version": "2.7.11"
  }
 },
 "nbformat": 4,
 "nbformat_minor": 0
}
