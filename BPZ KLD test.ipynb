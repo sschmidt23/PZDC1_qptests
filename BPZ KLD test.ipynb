{
 "cells": [
  {
   "cell_type": "code",
   "execution_count": 1,
   "metadata": {
    "collapsed": false
   },
   "outputs": [],
   "source": [
    "import argparse\n",
    "import qp\n",
    "import numpy as np\n",
    "import matplotlib.pyplot as plt"
   ]
  },
  {
   "cell_type": "code",
   "execution_count": 2,
   "metadata": {
    "collapsed": true
   },
   "outputs": [],
   "source": [
    "%matplotlib inline"
   ]
  },
  {
   "cell_type": "markdown",
   "metadata": {},
   "source": [
    "Testing the qp code with BPZ p(z) files.  For now I'm using a set of 111k galaxies from the training set, rather than the full ~1 million galaxies.  BPZ format is ID# and then p(z) with the specified numpy.arange, which is given in the header of the file.  Need to strip off the first column with the ID"
   ]
  },
  {
   "cell_type": "code",
   "execution_count": 3,
   "metadata": {
    "collapsed": false
   },
   "outputs": [],
   "source": [
    "infile = \"/Users/samschmidt/PZPAPER/mystuff/test_magscat_trainingfile_probs.out\"\n",
    "szfile = \"/Users/samschmidt/PZPAPER/mystuff/train_justsz.out\"\n",
    "#infile = \"/Users/samschmidt/PZPAPER/mystuff/test_magscat_trainingfile_probs_top2000.out\"\n",
    "#szfile = \"/Users/samschmidt/PZPAPER/mystuff/train_justsz_top2000.out\"\n",
    "z_array = np.arange(0.0050,2.1100,0.0100) #this is the grid output by BPZ for my runs\n",
    "z_trues = np.loadtxt(szfile,skiprows=1)\n",
    "alldata = np.loadtxt(infile,skiprows=1)\n",
    "ID = alldata[:,0]\n",
    "pzs = alldata[:,1:]"
   ]
  },
  {
   "cell_type": "code",
   "execution_count": 41,
   "metadata": {
    "collapsed": false
   },
   "outputs": [
    {
     "name": "stdout",
     "output_type": "stream",
     "text": [
      "111171\n",
      "111171\n",
      "(111171, 211)\n",
      "2.0 0.016\n"
     ]
    }
   ],
   "source": [
    "print len(z_trues)\n",
    "print len(ID)\n",
    "print pzs.shape\n",
    "print np.max(z_trues),np.min(z_trues)"
   ]
  },
  {
   "cell_type": "code",
   "execution_count": 33,
   "metadata": {
    "collapsed": false
   },
   "outputs": [],
   "source": [
    "true_pdf = qp.PDF(samples=z_trues)\n",
    "#true_pdf.plot()"
   ]
  },
  {
   "cell_type": "code",
   "execution_count": 34,
   "metadata": {
    "collapsed": false
   },
   "outputs": [
    {
     "name": "stdout",
     "output_type": "stream",
     "text": [
      "Interpolating the `samples` parametrization\n",
      "Creating a `linear` interpolator for the samples parametrization.\n",
      "Plotted samples\n"
     ]
    },
    {
     "data": {
      "image/png": "[encoded data removed]",
      "text/plain": [
       "<matplotlib.figure.Figure at 0x16afbe150>"
      ]
     },
     "metadata": {},
     "output_type": "display_data"
    }
   ],
   "source": [
    "true_pdf.plot()"
   ]
  },
  {
   "cell_type": "code",
   "execution_count": 6,
   "metadata": {
    "collapsed": false
   },
   "outputs": [],
   "source": [
    "approx_pdf = qp.Ensemble(pzs.shape[0],gridded=(z_array,pzs))"
   ]
  },
  {
   "cell_type": "code",
   "execution_count": null,
   "metadata": {
    "collapsed": false
   },
   "outputs": [],
   "source": []
  },
  {
   "cell_type": "code",
   "execution_count": null,
   "metadata": {
    "collapsed": false
   },
   "outputs": [],
   "source": []
  },
  {
   "cell_type": "code",
   "execution_count": 8,
   "metadata": {
    "collapsed": false
   },
   "outputs": [
    {
     "name": "stdout",
     "output_type": "stream",
     "text": [
      "[ 0.    0.05  0.1   0.15  0.2   0.25  0.3   0.35  0.4   0.45  0.5   0.55\n",
      "  0.6   0.65  0.7   0.75  0.8   0.85  0.9   0.95  1.    1.05  1.1   1.15\n",
      "  1.2   1.25  1.3   1.35  1.4   1.45  1.5   1.55  1.6   1.65  1.7   1.75\n",
      "  1.8   1.85  1.9   1.95  2.    2.05  2.1 ]\n"
     ]
    }
   ],
   "source": [
    "newarray=np.arange(0.0,2.11,0.05)\n",
    "print newarray"
   ]
  },
  {
   "cell_type": "code",
   "execution_count": null,
   "metadata": {
    "collapsed": false
   },
   "outputs": [],
   "source": [
    "testme = approx_pdf.evaluate(loc=newarray,using='gridded',vb=True)"
   ]
  },
  {
   "cell_type": "code",
   "execution_count": 9,
   "metadata": {
    "collapsed": false
   },
   "outputs": [],
   "source": [
    "sumpdf = approx_pdf.stack(loc=newarray,using='gridded',vb=True)"
   ]
  },
  {
   "cell_type": "code",
   "execution_count": 10,
   "metadata": {
    "collapsed": false
   },
   "outputs": [
    {
     "name": "stdout",
     "output_type": "stream",
     "text": [
      "{'gridded': (array([ 0.  ,  0.05,  0.1 ,  0.15,  0.2 ,  0.25,  0.3 ,  0.35,  0.4 ,\n",
      "        0.45,  0.5 ,  0.55,  0.6 ,  0.65,  0.7 ,  0.75,  0.8 ,  0.85,\n",
      "        0.9 ,  0.95,  1.  ,  1.05,  1.1 ,  1.15,  1.2 ,  1.25,  1.3 ,\n",
      "        1.35,  1.4 ,  1.45,  1.5 ,  1.55,  1.6 ,  1.65,  1.7 ,  1.75,\n",
      "        1.8 ,  1.85,  1.9 ,  1.95,  2.  ,  2.05,  2.1 ]), array([ 0.01295999,  0.08908455,  0.16376229,  0.31879273,  0.46824777,\n",
      "        0.59435387,  0.69946727,  0.82917602,  0.9597267 ,  0.98509603,\n",
      "        0.95312299,  0.9558524 ,  1.02892627,  1.04970032,  0.98477439,\n",
      "        0.87962754,  0.83808471,  0.7805817 ,  0.74136743,  0.70950558,\n",
      "        0.63578125,  0.56437545,  0.54690489,  0.50211331,  0.47965119,\n",
      "        0.48051136,  0.479689  ,  0.43845793,  0.35497081,  0.29537442,\n",
      "        0.25871898,  0.22455989,  0.20101733,  0.18437992,  0.16231699,\n",
      "        0.14086535,  0.11967744,  0.09863036,  0.07967943,  0.06487586,\n",
      "        0.05331575,  0.04346378,  0.02464924]))}\n"
     ]
    }
   ],
   "source": [
    "print sumpdf"
   ]
  },
  {
   "cell_type": "code",
   "execution_count": 11,
   "metadata": {
    "collapsed": true
   },
   "outputs": [],
   "source": [
    "xx = sumpdf['gridded']"
   ]
  },
  {
   "cell_type": "code",
   "execution_count": 12,
   "metadata": {
    "collapsed": false
   },
   "outputs": [
    {
     "name": "stdout",
     "output_type": "stream",
     "text": [
      "(array([ 0.  ,  0.05,  0.1 ,  0.15,  0.2 ,  0.25,  0.3 ,  0.35,  0.4 ,\n",
      "        0.45,  0.5 ,  0.55,  0.6 ,  0.65,  0.7 ,  0.75,  0.8 ,  0.85,\n",
      "        0.9 ,  0.95,  1.  ,  1.05,  1.1 ,  1.15,  1.2 ,  1.25,  1.3 ,\n",
      "        1.35,  1.4 ,  1.45,  1.5 ,  1.55,  1.6 ,  1.65,  1.7 ,  1.75,\n",
      "        1.8 ,  1.85,  1.9 ,  1.95,  2.  ,  2.05,  2.1 ]), array([ 0.01295999,  0.08908455,  0.16376229,  0.31879273,  0.46824777,\n",
      "        0.59435387,  0.69946727,  0.82917602,  0.9597267 ,  0.98509603,\n",
      "        0.95312299,  0.9558524 ,  1.02892627,  1.04970032,  0.98477439,\n",
      "        0.87962754,  0.83808471,  0.7805817 ,  0.74136743,  0.70950558,\n",
      "        0.63578125,  0.56437545,  0.54690489,  0.50211331,  0.47965119,\n",
      "        0.48051136,  0.479689  ,  0.43845793,  0.35497081,  0.29537442,\n",
      "        0.25871898,  0.22455989,  0.20101733,  0.18437992,  0.16231699,\n",
      "        0.14086535,  0.11967744,  0.09863036,  0.07967943,  0.06487586,\n",
      "        0.05331575,  0.04346378,  0.02464924]))\n"
     ]
    }
   ],
   "source": [
    "print xx"
   ]
  },
  {
   "cell_type": "code",
   "execution_count": 13,
   "metadata": {
    "collapsed": false
   },
   "outputs": [
    {
     "data": {
      "text/plain": [
       "[<matplotlib.lines.Line2D at 0x1a455f690>]"
      ]
     },
     "execution_count": 13,
     "metadata": {},
     "output_type": "execute_result"
    },
    {
     "data": {
      "image/png": "[encoded data removed]",
      "text/plain": [
       "<matplotlib.figure.Figure at 0x176b12410>"
      ]
     },
     "metadata": {},
     "output_type": "display_data"
    }
   ],
   "source": [
    "plt.figure()\n",
    "plt.plot(xx[0],xx[1])"
   ]
  },
  {
   "cell_type": "code",
   "execution_count": 16,
   "metadata": {
    "collapsed": false
   },
   "outputs": [],
   "source": [
    "approx_pdf.truth=true_pdf"
   ]
  },
  {
   "cell_type": "markdown",
   "metadata": {},
   "source": [
    "I was having trouble getting qp.kld working (I'm not quite sure how it's supposed to be used, with a stacked object? If so, I was getting errors), so I just wrote out a gridded form of the summed pdf and created a new PDF object to use in the kld and rmse tests"
   ]
  },
  {
   "cell_type": "code",
   "execution_count": 25,
   "metadata": {
    "collapsed": true
   },
   "outputs": [],
   "source": [
    "tmp1 = xx[0]\n",
    "tmp2 = xx[1]\n",
    "nz = qp.PDF(gridded=(tmp1,tmp2))"
   ]
  },
  {
   "cell_type": "markdown",
   "metadata": {},
   "source": [
    "show that the 0 to 2.2 range works for the gridded sumpz object now called nz"
   ]
  },
  {
   "cell_type": "code",
   "execution_count": 51,
   "metadata": {
    "collapsed": false
   },
   "outputs": [
    {
     "name": "stdout",
     "output_type": "stream",
     "text": [
      "Evaluating a `linear` interpolation of the gridded parametrization.\n",
      "Interpolating the `gridded` parametrization\n",
      "Creating a `linear` interpolator for the gridded parametrization.\n",
      "[ 0.01295999  0.16376229  0.46824777  0.69946727  0.9597267   0.95312299\n",
      "  1.02892627  0.98477439  0.83808471  0.74136743  0.63578125  0.54690489\n",
      "  0.47965119  0.479689    0.35497081  0.25871898  0.20101733  0.16231699\n",
      "  0.11967744  0.07967943  0.05331575  0.02464924]\n"
     ]
    }
   ],
   "source": [
    "farray = np.arange(0.0,2.2,.1)\n",
    "nze = nz.evaluate(farray)[1]\n",
    "print nze"
   ]
  },
  {
   "cell_type": "markdown",
   "metadata": {},
   "source": [
    "Note that for Samples, we get 'NaN' outside the support of the sampled values (in this case spec-zs cover 0.016<=z<=2.0), so I test the kld and rmse only in 0.1<=z<=1.99"
   ]
  },
  {
   "cell_type": "code",
   "execution_count": 52,
   "metadata": {
    "collapsed": false
   },
   "outputs": [
    {
     "name": "stdout",
     "output_type": "stream",
     "text": [
      "Evaluating a `linear` interpolation of the samples parametrization.\n",
      "Interpolating the `samples` parametrization\n",
      "Creating a `linear` interpolator for the samples parametrization.\n",
      "[        nan  0.09711605  0.32993069  0.6140675   0.95994594  0.97189214\n",
      "  1.07872102  1.03532305  0.83366469  0.72414939  0.68432187  0.51097455\n",
      "  0.43427125  0.39209324  0.35402753  0.26806241  0.22424341  0.17087617\n",
      "  0.14524172  0.11675096  0.04911792         nan]\n"
     ]
    }
   ],
   "source": [
    "testy = true_pdf.evaluate(farray)[1]\n",
    "print testy"
   ]
  },
  {
   "cell_type": "code",
   "execution_count": 44,
   "metadata": {
    "collapsed": false
   },
   "outputs": [
    {
     "name": "stdout",
     "output_type": "stream",
     "text": [
      "New histograms can only be computed from a truth distribution in this version.\n"
     ]
    },
    {
     "ename": "TypeError",
     "evalue": "'NoneType' object has no attribute '__getitem__'",
     "output_type": "error",
     "traceback": [
      "\u001b[0;31m---------------------------------------------------------------------------\u001b[0m",
      "\u001b[0;31mTypeError\u001b[0m                                 Traceback (most recent call last)",
      "\u001b[0;32m<ipython-input-44-b2c2c8831467>\u001b[0m in \u001b[0;36m<module>\u001b[0;34m()\u001b[0m\n\u001b[1;32m      1\u001b[0m \u001b[0mF\u001b[0m \u001b[0;34m=\u001b[0m \u001b[0mtrue_pdf\u001b[0m\u001b[0;34m.\u001b[0m\u001b[0mhistogramize\u001b[0m\u001b[0;34m(\u001b[0m\u001b[0mN\u001b[0m\u001b[0;34m=\u001b[0m\u001b[0;36m500\u001b[0m\u001b[0;34m,\u001b[0m\u001b[0mvb\u001b[0m\u001b[0;34m=\u001b[0m\u001b[0mFalse\u001b[0m\u001b[0;34m)\u001b[0m\u001b[0;34m\u001b[0m\u001b[0m\n\u001b[0;32m----> 2\u001b[0;31m \u001b[0mtmp1\u001b[0m \u001b[0;34m=\u001b[0m \u001b[0mF\u001b[0m\u001b[0;34m[\u001b[0m\u001b[0;36m0\u001b[0m\u001b[0;34m]\u001b[0m\u001b[0;34m\u001b[0m\u001b[0m\n\u001b[0m\u001b[1;32m      3\u001b[0m \u001b[0mtmp2\u001b[0m \u001b[0;34m=\u001b[0m \u001b[0mF\u001b[0m\u001b[0;34m[\u001b[0m\u001b[0;36m1\u001b[0m\u001b[0;34m]\u001b[0m\u001b[0;34m\u001b[0m\u001b[0m\n\u001b[1;32m      4\u001b[0m \u001b[0mfast_true\u001b[0m \u001b[0;34m=\u001b[0m \u001b[0mqp\u001b[0m\u001b[0;34m.\u001b[0m\u001b[0mPDF\u001b[0m\u001b[0;34m(\u001b[0m\u001b[0mhistogram\u001b[0m \u001b[0;34m=\u001b[0m \u001b[0;34m(\u001b[0m\u001b[0mtmp1\u001b[0m\u001b[0;34m,\u001b[0m\u001b[0mtmp2\u001b[0m\u001b[0;34m)\u001b[0m\u001b[0;34m)\u001b[0m\u001b[0;34m\u001b[0m\u001b[0m\n",
      "\u001b[0;31mTypeError\u001b[0m: 'NoneType' object has no attribute '__getitem__'"
     ]
    }
   ],
   "source": [
    "F = true_pdf.histogramize(N=500,vb=False)\n",
    "tmp1 = F[0]\n",
    "tmp2 = F[1]\n",
    "fast_true = qp.PDF(histogram = (tmp1,tmp2))"
   ]
  },
  {
   "cell_type": "markdown",
   "metadata": {},
   "source": [
    "Operations with the samples are quite slow, tried making histogram or grid of values to speed things up, but not implemented for samples of true values"
   ]
  },
  {
   "cell_type": "code",
   "execution_count": 47,
   "metadata": {
    "collapsed": false
   },
   "outputs": [
    {
     "name": "stdout",
     "output_type": "stream",
     "text": [
      "Evaluating a `linear` interpolation of the samples parametrization.\n",
      "Interpolating the `samples` parametrization\n",
      "Creating a `linear` interpolator for the samples parametrization.\n",
      "Evaluating a `linear` interpolation of the gridded parametrization.\n",
      "Interpolating the `gridded` parametrization\n",
      "Creating a `linear` interpolator for the gridded parametrization.\n"
     ]
    }
   ],
   "source": [
    "finkld = qp.utils.calculate_kl_divergence(true_pdf,nz,limits=(0.1,1.99),dx=0.1,vb=True)"
   ]
  },
  {
   "cell_type": "code",
   "execution_count": 48,
   "metadata": {
    "collapsed": false
   },
   "outputs": [
    {
     "name": "stdout",
     "output_type": "stream",
     "text": [
      "0.00733038518372\n"
     ]
    }
   ],
   "source": [
    "print finkld"
   ]
  },
  {
   "cell_type": "code",
   "execution_count": 49,
   "metadata": {
    "collapsed": false
   },
   "outputs": [
    {
     "name": "stdout",
     "output_type": "stream",
     "text": [
      "Evaluating a `linear` interpolation of the samples parametrization.\n",
      "Interpolating the `samples` parametrization\n",
      "Creating a `linear` interpolator for the samples parametrization.\n",
      "Evaluating a `linear` interpolation of the gridded parametrization.\n",
      "Interpolating the `gridded` parametrization\n",
      "Creating a `linear` interpolator for the gridded parametrization.\n"
     ]
    }
   ],
   "source": [
    "finrmse = qp.utils.calculate_rmse(true_pdf,nz,limits=(0.1,1.99),dx=0.1,vb=True)"
   ]
  },
  {
   "cell_type": "code",
   "execution_count": 50,
   "metadata": {
    "collapsed": false
   },
   "outputs": [
    {
     "name": "stdout",
     "output_type": "stream",
     "text": [
      "0.0533383808186\n"
     ]
    }
   ],
   "source": [
    "print finrmse"
   ]
  },
  {
   "cell_type": "markdown",
   "metadata": {},
   "source": [
    "When restricted to the support of the spec-z's, kld and rmse appear to work.  Of course, the values of kld and rmse depend on the grid used to evaluate the samples.  This was just a coarse grid to test whether or not things were working, once I got rid of the NaNs from being outside the range of spec-z's."
   ]
  },
  {
   "cell_type": "code",
   "execution_count": null,
   "metadata": {
    "collapsed": true
   },
   "outputs": [],
   "source": []
  }
 ],
 "metadata": {
  "kernelspec": {
   "display_name": "Python 2",
   "language": "python",
   "name": "python2"
  },
  "language_info": {
   "codemirror_mode": {
    "name": "ipython",
    "version": 2
   },
   "file_extension": ".py",
   "mimetype": "text/x-python",
   "name": "python",
   "nbconvert_exporter": "python",
   "pygments_lexer": "ipython2",
   "version": "2.7.11"
  }
 },
 "nbformat": 4,
 "nbformat_minor": 0
}
